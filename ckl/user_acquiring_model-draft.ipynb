{
 "cells": [
  {
   "cell_type": "code",
   "execution_count": 1,
   "metadata": {
    "collapsed": true
   },
   "outputs": [],
   "source": [
    "from __future__ import division, print_function\n",
    "import numpy as np\n",
    "import pandas as pd\n",
    "import matplotlib.pyplot as plt\n",
    "from IPython.display import display\n",
    "from zodbpickle import pickle\n",
    "from IPython.display import display\n",
    "import time\n",
    "pd.set_option('display.max_columns', 100)\n",
    "%matplotlib inline"
   ]
  },
  {
   "cell_type": "markdown",
   "metadata": {},
   "source": [
    "# Load Data"
   ]
  },
  {
   "cell_type": "markdown",
   "metadata": {},
   "source": [
    "# Sampling (stratified 1:1)"
   ]
  },
  {
   "cell_type": "markdown",
   "metadata": {},
   "source": [
    "# Raw data (preliminarily processed) Checkpoint"
   ]
  },
  {
   "cell_type": "code",
   "execution_count": 2,
   "metadata": {
    "collapsed": true
   },
   "outputs": [],
   "source": [
    "import numpy as np\n",
    "import pandas as pd\n",
    "import time\n",
    "import matplotlib.pyplot as plt\n",
    "from IPython.display import display\n",
    "from zodbpickle import pickle\n",
    "pd.set_option('display.max_columns', 100)\n",
    "%matplotlib inline\n",
    "\n",
    "data_train_stf = pd.DataFrame.from_csv('../data/data_train_stf.csv')\n",
    "data_test = pd.DataFrame.from_csv('../data/data_test_all.csv')"
   ]
  },
  {
   "cell_type": "code",
   "execution_count": 7,
   "metadata": {
    "collapsed": true
   },
   "outputs": [],
   "source": [
    "from preliminary_proc import drop_plus_date_rows\n",
    "\n",
    "data_train_stf = drop_plus_date_rows(data_train_stf)\n",
    "data_test = drop_plus_date_rows(data_test)"
   ]
  },
  {
   "cell_type": "markdown",
   "metadata": {},
   "source": [
    "# Begin Feature Engineering\n",
    "## Plan A -- using data_train_stf"
   ]
  },
  {
   "cell_type": "code",
   "execution_count": 10,
   "metadata": {
    "collapsed": true
   },
   "outputs": [],
   "source": [
    "# Reset shuffled indices\n",
    "data_train_stf.reset_index(drop=True, inplace=True)\n",
    "data_test.reset_index(drop=True, inplace=True)"
   ]
  },
  {
   "cell_type": "code",
   "execution_count": 11,
   "metadata": {
    "collapsed": true
   },
   "outputs": [],
   "source": [
    "feature_train, feature_test = data_train_stf.drop('isinvested', axis=1), data_test.drop('isinvested', axis=1)\n",
    "label_train, label_test = data_train_stf.isinvested, data_test.isinvested\n",
    "user_id_test = data_test.user_id"
   ]
  },
  {
   "cell_type": "code",
   "execution_count": 12,
   "metadata": {
    "collapsed": true
   },
   "outputs": [],
   "source": [
    "# Join back for data preprocessing\n",
    "feature_all_df = feature_train.append(feature_test, ignore_index=True)"
   ]
  },
  {
   "cell_type": "markdown",
   "metadata": {},
   "source": [
    "### Determine columns-to-drop"
   ]
  },
  {
   "cell_type": "code",
   "execution_count": 14,
   "metadata": {
    "collapsed": true
   },
   "outputs": [],
   "source": [
    "def drop_columns(df):\n",
    "#     drop_useless_cols = ['user_id', 'mobile', 'pno']\n",
    "#     drop_might_be_useful_cols = ['channel_id', 'create_date_id', 'create_time', 'areacode', 'devicetype']\n",
    "#     drop_future_cols = ['date_id', 'invest_time', 'active_num', 'lastday_before_invest', 'lianxuday_last', 'rate']\n",
    "#     drop_alter_label = ['plus_date']\n",
    "#     drop_call_cols = ['callstatus', 'call_effec', 'gap_calltoinvest', 'last_calltime',\n",
    "#            'call_times', 'isactive_aftercall']\n",
    "#     drop_other_cols = ['etl_time']\n",
    "\n",
    "#     drop_total = list(set(drop_useless_cols + drop_might_be_useful_cols + drop_future_cols + drop_alter_label + drop_call_cols + drop_other_cols))\n",
    "#     print(len(drop_total))\n",
    "# #     print(len(drop_useless_cols) + len(drop_might_be_useful_cols) + len(drop_future_cols), len(drop_alter_label), len(drop_call_cols), len(drop_other_cols), len(drop_total))\n",
    "#     df_modified = df.drop(drop_total, axis=1)\n",
    "# #     print(\"{} cols dropped.\".format(len(cols_to_drop_tuple)))\n",
    "\n",
    "# #     Drop the stay-series, to be added back\n",
    "# #     stay_list = [x for x in df.columns if 'stay' in x and x not in ['staynum', 'staytime']]\n",
    "# #     df_modified = df.drop(stay_list, axis=1)\n",
    "#     df_modified = df_modified.iloc[:, :10]\n",
    "    \n",
    "#     return df_modified\n",
    "    keep_col = ['user_age', 'sex_id', 'client_type_id', 'isrecharged', 'rechargestatus',\n",
    "       'isinvited', 'lastday_invite', 'lastamt_invite', 'staytime', 'staynum']\n",
    "#     keep_col = ['user_age', 'sex_id', 'client_type_id', 'isrecharged', 'rechargestatus',\n",
    "#        'isinvited', 'lastday_invite', 'lastamt_invite']\n",
    "    return df.loc[:, keep_col]"
   ]
  },
  {
   "cell_type": "code",
   "execution_count": 15,
   "metadata": {
    "collapsed": true
   },
   "outputs": [],
   "source": [
    "feature_all_dropped = drop_columns(feature_all_df)"
   ]
  },
  {
   "cell_type": "code",
   "execution_count": 16,
   "metadata": {},
   "outputs": [
    {
     "data": {
      "text/plain": [
       "(143019, 10)"
      ]
     },
     "execution_count": 16,
     "metadata": {},
     "output_type": "execute_result"
    }
   ],
   "source": [
    "feature_all_dropped.shape"
   ]
  },
  {
   "cell_type": "code",
   "execution_count": 17,
   "metadata": {
    "collapsed": true
   },
   "outputs": [],
   "source": [
    "def speedy_process(df, cat_colnames):\n",
    "    # Process numeric features\n",
    "    for colname in set(df.columns).difference(set(cat_colnames)):\n",
    "        # Create NA indicator\n",
    "        df[colname + '_na'] = df[colname].isnull().astype(int)\n",
    "        # Fill NA using median\n",
    "#         df[colname] = df[colname].fillna(df[colname].median())\n",
    "        df[colname] = df[colname].fillna(0)\n",
    "#         # Normalization\n",
    "#         df[colname] = (df[colname] - df[colname].min()) / (df[colname].max() - df[colname].min())\n",
    "        \n",
    "    # Process categorical features\n",
    "    for cat_colname in cat_colnames:\n",
    "        one_hot_df = pd.get_dummies(df[cat_colname], prefix=cat_colname, drop_first=True, dummy_na=False)\n",
    "#         one_hot_df = pd.get_dummies(df[cat_colname], prefix=cat_colname, drop_first=True, dummy_na=True)\n",
    "        df = df.join(one_hot_df)\n",
    "        df.drop([cat_colname], axis=1, inplace=True)\n",
    "    \n",
    "    return df"
   ]
  },
  {
   "cell_type": "code",
   "execution_count": 18,
   "metadata": {
    "collapsed": true
   },
   "outputs": [],
   "source": [
    "feature_all_proc = speedy_process(feature_all_dropped, cat_colnames=['sex_id', 'client_type_id', \n",
    "                                                        'isrecharged', 'rechargestatus', 'isinvited'])"
   ]
  },
  {
   "cell_type": "code",
   "execution_count": 19,
   "metadata": {},
   "outputs": [
    {
     "data": {
      "text/html": [
       "<div>\n",
       "<style>\n",
       "    .dataframe thead tr:only-child th {\n",
       "        text-align: right;\n",
       "    }\n",
       "\n",
       "    .dataframe thead th {\n",
       "        text-align: left;\n",
       "    }\n",
       "\n",
       "    .dataframe tbody tr th {\n",
       "        vertical-align: top;\n",
       "    }\n",
       "</style>\n",
       "<table border=\"1\" class=\"dataframe\">\n",
       "  <thead>\n",
       "    <tr style=\"text-align: right;\">\n",
       "      <th></th>\n",
       "      <th>user_age</th>\n",
       "      <th>lastday_invite</th>\n",
       "      <th>lastamt_invite</th>\n",
       "      <th>staytime</th>\n",
       "      <th>staynum</th>\n",
       "      <th>lastday_invite_na</th>\n",
       "      <th>staytime_na</th>\n",
       "      <th>lastamt_invite_na</th>\n",
       "      <th>user_age_na</th>\n",
       "      <th>staynum_na</th>\n",
       "      <th>sex_id_1</th>\n",
       "      <th>sex_id_2</th>\n",
       "      <th>client_type_id_2</th>\n",
       "      <th>client_type_id_3</th>\n",
       "      <th>client_type_id_6</th>\n",
       "      <th>isrecharged_1</th>\n",
       "      <th>rechargestatus_0.0</th>\n",
       "      <th>rechargestatus_1.0</th>\n",
       "      <th>isinvited_1</th>\n",
       "    </tr>\n",
       "  </thead>\n",
       "  <tbody>\n",
       "    <tr>\n",
       "      <th>0</th>\n",
       "      <td>19.0</td>\n",
       "      <td>0.0</td>\n",
       "      <td>0.0</td>\n",
       "      <td>298.0</td>\n",
       "      <td>37</td>\n",
       "      <td>1</td>\n",
       "      <td>0</td>\n",
       "      <td>1</td>\n",
       "      <td>0</td>\n",
       "      <td>0</td>\n",
       "      <td>1</td>\n",
       "      <td>0</td>\n",
       "      <td>0</td>\n",
       "      <td>1</td>\n",
       "      <td>0</td>\n",
       "      <td>0</td>\n",
       "      <td>0</td>\n",
       "      <td>0</td>\n",
       "      <td>0</td>\n",
       "    </tr>\n",
       "    <tr>\n",
       "      <th>1</th>\n",
       "      <td>53.0</td>\n",
       "      <td>0.0</td>\n",
       "      <td>0.0</td>\n",
       "      <td>0.0</td>\n",
       "      <td>0</td>\n",
       "      <td>1</td>\n",
       "      <td>1</td>\n",
       "      <td>1</td>\n",
       "      <td>0</td>\n",
       "      <td>0</td>\n",
       "      <td>1</td>\n",
       "      <td>0</td>\n",
       "      <td>0</td>\n",
       "      <td>0</td>\n",
       "      <td>1</td>\n",
       "      <td>0</td>\n",
       "      <td>0</td>\n",
       "      <td>0</td>\n",
       "      <td>0</td>\n",
       "    </tr>\n",
       "    <tr>\n",
       "      <th>2</th>\n",
       "      <td>43.0</td>\n",
       "      <td>4.0</td>\n",
       "      <td>50000.0</td>\n",
       "      <td>806.0</td>\n",
       "      <td>72</td>\n",
       "      <td>0</td>\n",
       "      <td>0</td>\n",
       "      <td>0</td>\n",
       "      <td>0</td>\n",
       "      <td>0</td>\n",
       "      <td>0</td>\n",
       "      <td>1</td>\n",
       "      <td>0</td>\n",
       "      <td>0</td>\n",
       "      <td>1</td>\n",
       "      <td>0</td>\n",
       "      <td>0</td>\n",
       "      <td>0</td>\n",
       "      <td>1</td>\n",
       "    </tr>\n",
       "    <tr>\n",
       "      <th>3</th>\n",
       "      <td>22.0</td>\n",
       "      <td>0.0</td>\n",
       "      <td>0.0</td>\n",
       "      <td>728.0</td>\n",
       "      <td>103</td>\n",
       "      <td>1</td>\n",
       "      <td>0</td>\n",
       "      <td>1</td>\n",
       "      <td>0</td>\n",
       "      <td>0</td>\n",
       "      <td>0</td>\n",
       "      <td>1</td>\n",
       "      <td>0</td>\n",
       "      <td>1</td>\n",
       "      <td>0</td>\n",
       "      <td>0</td>\n",
       "      <td>0</td>\n",
       "      <td>0</td>\n",
       "      <td>0</td>\n",
       "    </tr>\n",
       "    <tr>\n",
       "      <th>4</th>\n",
       "      <td>22.0</td>\n",
       "      <td>1.0</td>\n",
       "      <td>100.0</td>\n",
       "      <td>422.0</td>\n",
       "      <td>30</td>\n",
       "      <td>0</td>\n",
       "      <td>0</td>\n",
       "      <td>0</td>\n",
       "      <td>0</td>\n",
       "      <td>0</td>\n",
       "      <td>1</td>\n",
       "      <td>0</td>\n",
       "      <td>0</td>\n",
       "      <td>0</td>\n",
       "      <td>1</td>\n",
       "      <td>0</td>\n",
       "      <td>0</td>\n",
       "      <td>0</td>\n",
       "      <td>1</td>\n",
       "    </tr>\n",
       "  </tbody>\n",
       "</table>\n",
       "</div>"
      ],
      "text/plain": [
       "   user_age  lastday_invite  lastamt_invite  staytime  staynum  \\\n",
       "0      19.0             0.0             0.0     298.0       37   \n",
       "1      53.0             0.0             0.0       0.0        0   \n",
       "2      43.0             4.0         50000.0     806.0       72   \n",
       "3      22.0             0.0             0.0     728.0      103   \n",
       "4      22.0             1.0           100.0     422.0       30   \n",
       "\n",
       "   lastday_invite_na  staytime_na  lastamt_invite_na  user_age_na  staynum_na  \\\n",
       "0                  1            0                  1            0           0   \n",
       "1                  1            1                  1            0           0   \n",
       "2                  0            0                  0            0           0   \n",
       "3                  1            0                  1            0           0   \n",
       "4                  0            0                  0            0           0   \n",
       "\n",
       "   sex_id_1  sex_id_2  client_type_id_2  client_type_id_3  client_type_id_6  \\\n",
       "0         1         0                 0                 1                 0   \n",
       "1         1         0                 0                 0                 1   \n",
       "2         0         1                 0                 0                 1   \n",
       "3         0         1                 0                 1                 0   \n",
       "4         1         0                 0                 0                 1   \n",
       "\n",
       "   isrecharged_1  rechargestatus_0.0  rechargestatus_1.0  isinvited_1  \n",
       "0              0                   0                   0            0  \n",
       "1              0                   0                   0            0  \n",
       "2              0                   0                   0            1  \n",
       "3              0                   0                   0            0  \n",
       "4              0                   0                   0            1  "
      ]
     },
     "execution_count": 19,
     "metadata": {},
     "output_type": "execute_result"
    }
   ],
   "source": [
    "feature_all_proc.head()"
   ]
  },
  {
   "cell_type": "code",
   "execution_count": 20,
   "metadata": {
    "collapsed": true
   },
   "outputs": [],
   "source": [
    "feature_train = feature_all_proc.iloc[:len(feature_train), :]\n",
    "feature_test = feature_all_proc.iloc[len(feature_train):, :]"
   ]
  },
  {
   "cell_type": "code",
   "execution_count": 21,
   "metadata": {
    "collapsed": true
   },
   "outputs": [],
   "source": [
    "# Convert labels\n",
    "label_dict = {'未投资': 0, '已投资': 1}\n",
    "\n",
    "label_train.replace(label_dict, inplace=True)\n",
    "label_test.replace(label_dict, inplace=True)"
   ]
  },
  {
   "cell_type": "code",
   "execution_count": 22,
   "metadata": {
    "collapsed": true
   },
   "outputs": [],
   "source": [
    "from sklearn.model_selection import train_test_split\n",
    "\n",
    "X_train, X_val, y_train, y_val = train_test_split(feature_train, label_train, test_size=0.30, random_state=13)"
   ]
  },
  {
   "cell_type": "code",
   "execution_count": 23,
   "metadata": {},
   "outputs": [
    {
     "name": "stdout",
     "output_type": "stream",
     "text": [
      "('staytime', 0.32834637276553602)\n",
      "('user_age', 0.3151695512501852)\n",
      "('staynum', 0.21550970438465888)\n",
      "('client_type_id_2', 0.031498093304595409)\n",
      "('client_type_id_3', 0.022025319561475055)\n",
      "('isinvited_1', 0.020584559495529269)\n",
      "('sex_id_1', 0.012836032766469349)\n",
      "('lastday_invite', 0.011427358475658516)\n",
      "('client_type_id_6', 0.0087990045722841203)\n",
      "('isrecharged_1', 0.0085890910719438312)\n",
      "('lastamt_invite', 0.0068412079467727359)\n",
      "('sex_id_2', 0.0067755574101299792)\n",
      "('staytime_na', 0.0037425926781061566)\n",
      "('rechargestatus_0.0', 0.0031591859250125489)\n",
      "('lastday_invite_na', 0.0021569531807655324)\n",
      "('rechargestatus_1.0', 0.0017812453241555122)\n",
      "('lastamt_invite_na', 0.00075816988672196034)\n",
      "('user_age_na', 0.0)\n",
      "('staynum_na', 0.0)\n"
     ]
    }
   ],
   "source": [
    "from sklearn.tree import DecisionTreeClassifier\n",
    "\n",
    "clf_dt = DecisionTreeClassifier(random_state=13)\n",
    "clf_dt.fit(X_train, y_train)\n",
    "\n",
    "sorted_importance = sorted(list(zip(X_train.columns, clf_dt.feature_importances_)), key=lambda x: x[1], reverse=True)\n",
    "\n",
    "for x in sorted_importance:\n",
    "    print(x)"
   ]
  },
  {
   "cell_type": "code",
   "execution_count": 24,
   "metadata": {},
   "outputs": [
    {
     "name": "stdout",
     "output_type": "stream",
     "text": [
      "Training took 2.2226319313049316 seconds.\n"
     ]
    }
   ],
   "source": [
    "from sklearn import svm\n",
    "from sklearn.ensemble import RandomForestClassifier\n",
    "from sklearn.model_selection import GridSearchCV\n",
    "\n",
    "start_time = time.time()\n",
    "\n",
    "# from sklearn.ensemble import RandomForestRegressor\n",
    "\n",
    "start_time = time.time()\n",
    "\n",
    "clf = RandomForestClassifier(n_estimators=512, min_samples_leaf=25, max_features='sqrt', n_jobs=-1, oob_score=True, random_state=13)\n",
    "# param_grid = {'n_estimators': [128, 256, 512, 1024], 'min_samples_leaf': [25, 50, 100]}\n",
    "# cls_gs = GridSearchCV(cls, param_grid, scoring='roc_auc', n_jobs=-1, cv=5)\n",
    "clf.fit(X_train, y_train)\n",
    "# clf.fit(X_train, np.asarray(y_train, dtype=\"|S6\"))\n",
    "print(\"Training took {} seconds.\".format(time.time() - start_time))\n",
    "\n"
   ]
  },
  {
   "cell_type": "code",
   "execution_count": 25,
   "metadata": {
    "collapsed": true
   },
   "outputs": [],
   "source": [
    "y_pred_train = clf.predict_proba(X_train)\n",
    "y_pred_val = clf.predict_proba(X_val)"
   ]
  },
  {
   "cell_type": "code",
   "execution_count": 26,
   "metadata": {
    "collapsed": true
   },
   "outputs": [],
   "source": [
    "def calc_ks(data, n, prediction=\"prediction\", label=\"label\"):\n",
    "    \"\"\"\n",
    "    calculate ks value\n",
    "    :param data: DataFrame[prediction,label]\n",
    "    :param n : int number of cut\n",
    "    :param prediction: string name of prediction\n",
    "    :param label: string name of label\n",
    "    :return: array\n",
    "    \"\"\"\n",
    "    data = data.sort_values(prediction, ascending=False)\n",
    "    boolean = True\n",
    "    while boolean:\n",
    "        try:\n",
    "            data[prediction] = pd.Series(pd.qcut(data[prediction], n, labels=np.arange(n).astype(str)))\n",
    "        except ValueError:\n",
    "            boolean = True\n",
    "            n -= 1\n",
    "        else:\n",
    "            boolean = False\n",
    "    count = data.groupby(prediction)[label].agg({'bad': np.count_nonzero, 'obs': np.size})\n",
    "    count[\"good\"] = count[\"obs\"] - count[\"bad\"]\n",
    "    t_bad = np.sum(count[\"bad\"])\n",
    "    t_good = np.sum(count[\"good\"])\n",
    "    ks_vector = np.abs(np.cumsum(count[\"bad\"]) / t_bad - np.cumsum(count[\"good\"]) / t_good)\n",
    "    return ks_vector\n",
    "\n",
    "def calc_continus_ks(data, prediction=\"prediction\", label=\"label\"):\n",
    "    \"\"\"\n",
    "\n",
    "    :param data:\n",
    "    :param prediction:\n",
    "    :param label:\n",
    "    :return:\n",
    "    \"\"\"\n",
    "    data = data.sort_values(prediction, ascending=False)\n",
    "    count = data.groupby(prediction, sort=False)[label].agg({'bad': np.count_nonzero, 'obs': np.size})\n",
    "    count[\"good\"] = count[\"obs\"] - count[\"bad\"]\n",
    "    t_bad = np.sum(count[\"bad\"])\n",
    "    t_good = np.sum(count[\"good\"])\n",
    "    ks_vector = np.abs(np.cumsum(count[\"bad\"]) / t_bad - np.cumsum(count[\"good\"]) / t_good)\n",
    "    return ks_vector\n",
    "\n",
    "def eval_ks(y_true, y_pred):\n",
    "    target_oos = y_pred\n",
    "#     rf_results = pd.DataFrame({'prediction':target_oos[:, 1],\"label\":y_true})\n",
    "    rf_results = pd.DataFrame({'prediction':target_oos,\"label\":y_true})\n",
    "    ks_dis = calc_ks(rf_results, 10, prediction=\"prediction\")\n",
    "#     print(max(ks_dis))\n",
    "    ks_cont = calc_continus_ks(rf_results, prediction=\"prediction\")\n",
    "#     print(max(ks_cont))\n",
    "    return max(ks_dis), max(ks_cont)"
   ]
  },
  {
   "cell_type": "code",
   "execution_count": 27,
   "metadata": {
    "collapsed": true
   },
   "outputs": [],
   "source": [
    "def draw_decile_chart(df, bin_var, target, bins=10):\n",
    "    import pandas as pd\n",
    "    import seaborn as sns\n",
    "    import matplotlib.pyplot as plt\n",
    "    from math import ceil\n",
    "    \n",
    "    df_temp = df.copy()\n",
    "    chart_df = df_temp.loc[:, list(set([bin_var] + target))]\n",
    "    chart_df_sorted = chart_df.sort_values(bin_var)\n",
    "    \n",
    "    bin_col = []\n",
    "    bin_size = ceil(len(chart_df_sorted) / bins)\n",
    "    element_counter = 0\n",
    "    bin_num = bins\n",
    "    \n",
    "    for i in range(len(chart_df_sorted)):\n",
    "        bin_col.append(bin_num)\n",
    "        element_counter += 1\n",
    "        \n",
    "        if element_counter == bin_size:\n",
    "            bin_num -= 1\n",
    "            element_counter = 0\n",
    "    \n",
    "    bin_col_name = bin_var + '_bin'\n",
    "    chart_with_bin_df = chart_df_sorted.copy()\n",
    "    chart_with_bin_df[bin_col_name] = bin_col\n",
    "\n",
    "    bin_index = chart_with_bin_df.groupby(bin_col_name).mean().index\n",
    "    grouped_by_age_bin = chart_with_bin_df.groupby(bin_col_name)\n",
    "    display(grouped_by_age_bin.mean())\n",
    "    \n",
    "    for x in target:\n",
    "        plt.plot(bin_index, grouped_by_age_bin.mean()[x], linestyle='-')\n",
    "    \n",
    "    plt.legend()"
   ]
  },
  {
   "cell_type": "code",
   "execution_count": 28,
   "metadata": {},
   "outputs": [
    {
     "name": "stderr",
     "output_type": "stream",
     "text": [
      "/Users/finup/anaconda/envs/python3/lib/python3.6/site-packages/ipykernel/__main__.py:20: FutureWarning: using a dict on a Series for aggregation\n",
      "is deprecated and will be removed in a future version\n",
      "/Users/finup/anaconda/envs/python3/lib/python3.6/site-packages/ipykernel/__main__.py:36: FutureWarning: using a dict on a Series for aggregation\n",
      "is deprecated and will be removed in a future version\n"
     ]
    },
    {
     "name": "stdout",
     "output_type": "stream",
     "text": [
      "(0.67210876833803779, 0.67379973904349688)\n"
     ]
    }
   ],
   "source": [
    "print(eval_ks(y_train, y_pred_train[:, 1]))"
   ]
  },
  {
   "cell_type": "code",
   "execution_count": 29,
   "metadata": {},
   "outputs": [
    {
     "data": {
      "text/html": [
       "<div>\n",
       "<style>\n",
       "    .dataframe thead tr:only-child th {\n",
       "        text-align: right;\n",
       "    }\n",
       "\n",
       "    .dataframe thead th {\n",
       "        text-align: left;\n",
       "    }\n",
       "\n",
       "    .dataframe tbody tr th {\n",
       "        vertical-align: top;\n",
       "    }\n",
       "</style>\n",
       "<table border=\"1\" class=\"dataframe\">\n",
       "  <thead>\n",
       "    <tr style=\"text-align: right;\">\n",
       "      <th></th>\n",
       "      <th>Prediction</th>\n",
       "      <th>Label</th>\n",
       "    </tr>\n",
       "    <tr>\n",
       "      <th>Prediction_bin</th>\n",
       "      <th></th>\n",
       "      <th></th>\n",
       "    </tr>\n",
       "  </thead>\n",
       "  <tbody>\n",
       "    <tr>\n",
       "      <th>1</th>\n",
       "      <td>0.931399</td>\n",
       "      <td>0.993147</td>\n",
       "    </tr>\n",
       "    <tr>\n",
       "      <th>2</th>\n",
       "      <td>0.877657</td>\n",
       "      <td>0.958926</td>\n",
       "    </tr>\n",
       "    <tr>\n",
       "      <th>3</th>\n",
       "      <td>0.768549</td>\n",
       "      <td>0.828331</td>\n",
       "    </tr>\n",
       "    <tr>\n",
       "      <th>4</th>\n",
       "      <td>0.651175</td>\n",
       "      <td>0.679305</td>\n",
       "    </tr>\n",
       "    <tr>\n",
       "      <th>5</th>\n",
       "      <td>0.547700</td>\n",
       "      <td>0.565034</td>\n",
       "    </tr>\n",
       "    <tr>\n",
       "      <th>6</th>\n",
       "      <td>0.442712</td>\n",
       "      <td>0.416008</td>\n",
       "    </tr>\n",
       "    <tr>\n",
       "      <th>7</th>\n",
       "      <td>0.304119</td>\n",
       "      <td>0.230648</td>\n",
       "    </tr>\n",
       "    <tr>\n",
       "      <th>8</th>\n",
       "      <td>0.138336</td>\n",
       "      <td>0.028963</td>\n",
       "    </tr>\n",
       "    <tr>\n",
       "      <th>9</th>\n",
       "      <td>0.033208</td>\n",
       "      <td>0.000000</td>\n",
       "    </tr>\n",
       "    <tr>\n",
       "      <th>10</th>\n",
       "      <td>0.004621</td>\n",
       "      <td>0.000000</td>\n",
       "    </tr>\n",
       "  </tbody>\n",
       "</table>\n",
       "</div>"
      ],
      "text/plain": [
       "                Prediction     Label\n",
       "Prediction_bin                      \n",
       "1                 0.931399  0.993147\n",
       "2                 0.877657  0.958926\n",
       "3                 0.768549  0.828331\n",
       "4                 0.651175  0.679305\n",
       "5                 0.547700  0.565034\n",
       "6                 0.442712  0.416008\n",
       "7                 0.304119  0.230648\n",
       "8                 0.138336  0.028963\n",
       "9                 0.033208  0.000000\n",
       "10                0.004621  0.000000"
      ]
     },
     "metadata": {},
     "output_type": "display_data"
    },
    {
     "data": {
      "image/png": "[encoded data removed]",
      "text/plain": [
       "<matplotlib.figure.Figure at 0x116915908>"
      ]
     },
     "metadata": {},
     "output_type": "display_data"
    }
   ],
   "source": [
    "decile_train = pd.DataFrame({'Label': y_train, 'Prediction': y_pred_train[:, 1]})\n",
    "draw_decile_chart(decile_train, 'Prediction', ['Label', 'Prediction'], bins=10)"
   ]
  },
  {
   "cell_type": "code",
   "execution_count": 30,
   "metadata": {},
   "outputs": [
    {
     "name": "stdout",
     "output_type": "stream",
     "text": [
      "(0.64660627771839541, 0.65276352726683384)\n"
     ]
    },
    {
     "name": "stderr",
     "output_type": "stream",
     "text": [
      "/Users/finup/anaconda/envs/python3/lib/python3.6/site-packages/ipykernel/__main__.py:20: FutureWarning: using a dict on a Series for aggregation\n",
      "is deprecated and will be removed in a future version\n",
      "/Users/finup/anaconda/envs/python3/lib/python3.6/site-packages/ipykernel/__main__.py:36: FutureWarning: using a dict on a Series for aggregation\n",
      "is deprecated and will be removed in a future version\n"
     ]
    }
   ],
   "source": [
    "print(eval_ks(y_val, y_pred_val[:, 1]))"
   ]
  },
  {
   "cell_type": "code",
   "execution_count": 31,
   "metadata": {},
   "outputs": [
    {
     "data": {
      "text/html": [
       "<div>\n",
       "<style>\n",
       "    .dataframe thead tr:only-child th {\n",
       "        text-align: right;\n",
       "    }\n",
       "\n",
       "    .dataframe thead th {\n",
       "        text-align: left;\n",
       "    }\n",
       "\n",
       "    .dataframe tbody tr th {\n",
       "        vertical-align: top;\n",
       "    }\n",
       "</style>\n",
       "<table border=\"1\" class=\"dataframe\">\n",
       "  <thead>\n",
       "    <tr style=\"text-align: right;\">\n",
       "      <th></th>\n",
       "      <th>Prediction</th>\n",
       "      <th>Label</th>\n",
       "    </tr>\n",
       "    <tr>\n",
       "      <th>Prediction_bin</th>\n",
       "      <th></th>\n",
       "      <th></th>\n",
       "    </tr>\n",
       "  </thead>\n",
       "  <tbody>\n",
       "    <tr>\n",
       "      <th>1</th>\n",
       "      <td>0.931746</td>\n",
       "      <td>0.982780</td>\n",
       "    </tr>\n",
       "    <tr>\n",
       "      <th>2</th>\n",
       "      <td>0.879470</td>\n",
       "      <td>0.958231</td>\n",
       "    </tr>\n",
       "    <tr>\n",
       "      <th>3</th>\n",
       "      <td>0.769683</td>\n",
       "      <td>0.825553</td>\n",
       "    </tr>\n",
       "    <tr>\n",
       "      <th>4</th>\n",
       "      <td>0.649661</td>\n",
       "      <td>0.700246</td>\n",
       "    </tr>\n",
       "    <tr>\n",
       "      <th>5</th>\n",
       "      <td>0.542071</td>\n",
       "      <td>0.528256</td>\n",
       "    </tr>\n",
       "    <tr>\n",
       "      <th>6</th>\n",
       "      <td>0.442260</td>\n",
       "      <td>0.457002</td>\n",
       "    </tr>\n",
       "    <tr>\n",
       "      <th>7</th>\n",
       "      <td>0.306518</td>\n",
       "      <td>0.270270</td>\n",
       "    </tr>\n",
       "    <tr>\n",
       "      <th>8</th>\n",
       "      <td>0.145191</td>\n",
       "      <td>0.041769</td>\n",
       "    </tr>\n",
       "    <tr>\n",
       "      <th>9</th>\n",
       "      <td>0.035259</td>\n",
       "      <td>0.000000</td>\n",
       "    </tr>\n",
       "    <tr>\n",
       "      <th>10</th>\n",
       "      <td>0.004630</td>\n",
       "      <td>0.000000</td>\n",
       "    </tr>\n",
       "  </tbody>\n",
       "</table>\n",
       "</div>"
      ],
      "text/plain": [
       "                Prediction     Label\n",
       "Prediction_bin                      \n",
       "1                 0.931746  0.982780\n",
       "2                 0.879470  0.958231\n",
       "3                 0.769683  0.825553\n",
       "4                 0.649661  0.700246\n",
       "5                 0.542071  0.528256\n",
       "6                 0.442260  0.457002\n",
       "7                 0.306518  0.270270\n",
       "8                 0.145191  0.041769\n",
       "9                 0.035259  0.000000\n",
       "10                0.004630  0.000000"
      ]
     },
     "metadata": {},
     "output_type": "display_data"
    },
    {
     "data": {
      "image/png": "[encoded data removed]",
      "text/plain": [
       "<matplotlib.figure.Figure at 0x116e95b00>"
      ]
     },
     "metadata": {},
     "output_type": "display_data"
    }
   ],
   "source": [
    "decile_val = pd.DataFrame({'Label': y_val, 'Prediction': y_pred_val[:, 1]})\n",
    "draw_decile_chart(decile_val, 'Prediction', ['Label', 'Prediction'], bins=10)"
   ]
  },
  {
   "cell_type": "markdown",
   "metadata": {},
   "source": [
    "# Finally, on to the test set (OOS)"
   ]
  },
  {
   "cell_type": "code",
   "execution_count": 32,
   "metadata": {
    "collapsed": true
   },
   "outputs": [],
   "source": [
    "y_pred = clf.predict_proba(feature_test)"
   ]
  },
  {
   "cell_type": "code",
   "execution_count": 33,
   "metadata": {},
   "outputs": [
    {
     "name": "stderr",
     "output_type": "stream",
     "text": [
      "/Users/finup/anaconda/envs/python3/lib/python3.6/site-packages/ipykernel/__main__.py:20: FutureWarning: using a dict on a Series for aggregation\n",
      "is deprecated and will be removed in a future version\n",
      "/Users/finup/anaconda/envs/python3/lib/python3.6/site-packages/ipykernel/__main__.py:36: FutureWarning: using a dict on a Series for aggregation\n",
      "is deprecated and will be removed in a future version\n"
     ]
    },
    {
     "name": "stdout",
     "output_type": "stream",
     "text": [
      "(0.66187381832953884, 0.66962427648109335)\n"
     ]
    }
   ],
   "source": [
    "print(eval_ks(label_test, y_pred[:, 1]))"
   ]
  },
  {
   "cell_type": "code",
   "execution_count": 34,
   "metadata": {},
   "outputs": [
    {
     "data": {
      "text/plain": [
       "0.92409906309396816"
      ]
     },
     "execution_count": 34,
     "metadata": {},
     "output_type": "execute_result"
    }
   ],
   "source": [
    "from sklearn.metrics import roc_auc_score\n",
    "\n",
    "roc_auc_score(label_test, y_pred[:, 1])"
   ]
  },
  {
   "cell_type": "code",
   "execution_count": 35,
   "metadata": {
    "collapsed": true
   },
   "outputs": [],
   "source": [
    "decile_df = pd.DataFrame({'Label': label_test, 'Prediction': y_pred[:, 1]})"
   ]
  },
  {
   "cell_type": "code",
   "execution_count": 36,
   "metadata": {},
   "outputs": [
    {
     "data": {
      "text/html": [
       "<div>\n",
       "<style>\n",
       "    .dataframe thead tr:only-child th {\n",
       "        text-align: right;\n",
       "    }\n",
       "\n",
       "    .dataframe thead th {\n",
       "        text-align: left;\n",
       "    }\n",
       "\n",
       "    .dataframe tbody tr th {\n",
       "        vertical-align: top;\n",
       "    }\n",
       "</style>\n",
       "<table border=\"1\" class=\"dataframe\">\n",
       "  <thead>\n",
       "    <tr style=\"text-align: right;\">\n",
       "      <th></th>\n",
       "      <th>Prediction</th>\n",
       "      <th>Label</th>\n",
       "    </tr>\n",
       "    <tr>\n",
       "      <th>Prediction_bin</th>\n",
       "      <th></th>\n",
       "      <th></th>\n",
       "    </tr>\n",
       "  </thead>\n",
       "  <tbody>\n",
       "    <tr>\n",
       "      <th>1</th>\n",
       "      <td>0.777617</td>\n",
       "      <td>0.315576</td>\n",
       "    </tr>\n",
       "    <tr>\n",
       "      <th>2</th>\n",
       "      <td>0.578354</td>\n",
       "      <td>0.076186</td>\n",
       "    </tr>\n",
       "    <tr>\n",
       "      <th>3</th>\n",
       "      <td>0.465263</td>\n",
       "      <td>0.043054</td>\n",
       "    </tr>\n",
       "    <tr>\n",
       "      <th>4</th>\n",
       "      <td>0.356623</td>\n",
       "      <td>0.023469</td>\n",
       "    </tr>\n",
       "    <tr>\n",
       "      <th>5</th>\n",
       "      <td>0.241357</td>\n",
       "      <td>0.011475</td>\n",
       "    </tr>\n",
       "    <tr>\n",
       "      <th>6</th>\n",
       "      <td>0.130332</td>\n",
       "      <td>0.001639</td>\n",
       "    </tr>\n",
       "    <tr>\n",
       "      <th>7</th>\n",
       "      <td>0.088284</td>\n",
       "      <td>0.000173</td>\n",
       "    </tr>\n",
       "    <tr>\n",
       "      <th>8</th>\n",
       "      <td>0.011502</td>\n",
       "      <td>0.000000</td>\n",
       "    </tr>\n",
       "    <tr>\n",
       "      <th>9</th>\n",
       "      <td>0.005462</td>\n",
       "      <td>0.000000</td>\n",
       "    </tr>\n",
       "    <tr>\n",
       "      <th>10</th>\n",
       "      <td>0.004115</td>\n",
       "      <td>0.000000</td>\n",
       "    </tr>\n",
       "  </tbody>\n",
       "</table>\n",
       "</div>"
      ],
      "text/plain": [
       "                Prediction     Label\n",
       "Prediction_bin                      \n",
       "1                 0.777617  0.315576\n",
       "2                 0.578354  0.076186\n",
       "3                 0.465263  0.043054\n",
       "4                 0.356623  0.023469\n",
       "5                 0.241357  0.011475\n",
       "6                 0.130332  0.001639\n",
       "7                 0.088284  0.000173\n",
       "8                 0.011502  0.000000\n",
       "9                 0.005462  0.000000\n",
       "10                0.004115  0.000000"
      ]
     },
     "metadata": {},
     "output_type": "display_data"
    },
    {
     "data": {
      "image/png": "[encoded data removed]",
      "text/plain": [
       "<matplotlib.figure.Figure at 0x11863cda0>"
      ]
     },
     "metadata": {},
     "output_type": "display_data"
    }
   ],
   "source": [
    "draw_decile_chart(decile_df, 'Prediction', ['Label', 'Prediction'], bins=10)"
   ]
  }
 ],
 "metadata": {
  "kernelspec": {
   "display_name": "Python [conda env:python3]",
   "language": "python",
   "name": "conda-env-python3-py"
  },
  "language_info": {
   "codemirror_mode": {
    "name": "ipython",
    "version": 3
   },
   "file_extension": ".py",
   "mimetype": "text/x-python",
   "name": "python",
   "nbconvert_exporter": "python",
   "pygments_lexer": "ipython3",
   "version": "3.6.1"
  }
 },
 "nbformat": 4,
 "nbformat_minor": 2
}
