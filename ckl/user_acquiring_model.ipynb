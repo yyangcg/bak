{
 "cells": [
  {
   "cell_type": "code",
   "execution_count": 1,
   "metadata": {
    "collapsed": true
   },
   "outputs": [],
   "source": [
    "import numpy as np\n",
    "import pandas as pd\n",
    "import matplotlib.pyplot as plt\n",
    "from IPython.display import display\n",
    "from zodbpickle import pickle\n",
    "from IPython.display import display\n",
    "pd.set_option('display.max_columns', 100)\n",
    "%matplotlib inline"
   ]
  },
  {
   "cell_type": "markdown",
   "metadata": {},
   "source": [
    "# Load Data"
   ]
  },
  {
   "cell_type": "code",
   "execution_count": 2,
   "metadata": {},
   "outputs": [
    {
     "name": "stdout",
     "output_type": "stream",
     "text": [
      "Importing data took 16.739235162734985 secs.\n"
     ]
    }
   ],
   "source": [
    "import time\n",
    "\n",
    "start_time = time.time()\n",
    "\n",
    "raw_data = pd.read_csv('result.csv', warn_bad_lines=False, error_bad_lines=False, engine='python')\n",
    "\n",
    "print(\"Importing data took {} secs.\".format(time.time() - start_time))"
   ]
  },
  {
   "cell_type": "markdown",
   "metadata": {},
   "source": [
    "# Determine rows-to-drop"
   ]
  },
  {
   "cell_type": "code",
   "execution_count": 3,
   "metadata": {
    "collapsed": true
   },
   "outputs": [],
   "source": [
    "def drop_plus_date_rows(df):\n",
    "    conditions = df.plus_date == 0\n",
    "    return df.loc[~conditions, :]"
   ]
  },
  {
   "cell_type": "code",
   "execution_count": 4,
   "metadata": {},
   "outputs": [
    {
     "data": {
      "text/plain": [
       "(434484, 57)"
      ]
     },
     "execution_count": 4,
     "metadata": {},
     "output_type": "execute_result"
    }
   ],
   "source": [
    "raw_data.shape"
   ]
  },
  {
   "cell_type": "code",
   "execution_count": 5,
   "metadata": {
    "collapsed": true
   },
   "outputs": [],
   "source": [
    "raw_data = drop_plus_date_rows(raw_data)"
   ]
  },
  {
   "cell_type": "code",
   "execution_count": 6,
   "metadata": {},
   "outputs": [
    {
     "data": {
      "text/plain": [
       "(388344, 57)"
      ]
     },
     "execution_count": 6,
     "metadata": {},
     "output_type": "execute_result"
    }
   ],
   "source": [
    "raw_data.shape"
   ]
  },
  {
   "cell_type": "markdown",
   "metadata": {},
   "source": [
    "# Split Data -- Train:Test = 7:3"
   ]
  },
  {
   "cell_type": "code",
   "execution_count": 7,
   "metadata": {
    "collapsed": true
   },
   "outputs": [],
   "source": [
    "from sklearn.model_selection import train_test_split\n",
    "\n",
    "data_train, data_test = train_test_split(raw_data, test_size=0.30, random_state=13)"
   ]
  },
  {
   "cell_type": "markdown",
   "metadata": {},
   "source": [
    "# Out put splited data to csv"
   ]
  },
  {
   "cell_type": "code",
   "execution_count": 8,
   "metadata": {
    "collapsed": true
   },
   "outputs": [],
   "source": [
    "data_train.to_csv('data_train_all.csv')\n",
    "data_test.to_csv('data_test_all.csv')"
   ]
  },
  {
   "cell_type": "code",
   "execution_count": 9,
   "metadata": {},
   "outputs": [
    {
     "name": "stdout",
     "output_type": "stream",
     "text": [
      "(388344, 57)\n",
      "0.6999979399707476\n",
      "0.3000020600292524\n"
     ]
    }
   ],
   "source": [
    "print(raw_data.shape)\n",
    "print(data_train.shape[0] / raw_data.shape[0])\n",
    "print(data_test.shape[0] / raw_data.shape[0])"
   ]
  },
  {
   "cell_type": "code",
   "execution_count": 10,
   "metadata": {},
   "outputs": [
    {
     "data": {
      "text/html": [
       "<div>\n",
       "<style>\n",
       "    .dataframe thead tr:only-child th {\n",
       "        text-align: right;\n",
       "    }\n",
       "\n",
       "    .dataframe thead th {\n",
       "        text-align: left;\n",
       "    }\n",
       "\n",
       "    .dataframe tbody tr th {\n",
       "        vertical-align: top;\n",
       "    }\n",
       "</style>\n",
       "<table border=\"1\" class=\"dataframe\">\n",
       "  <thead>\n",
       "    <tr style=\"text-align: right;\">\n",
       "      <th></th>\n",
       "      <th>user_id</th>\n",
       "      <th>mobile</th>\n",
       "      <th>isinvested</th>\n",
       "      <th>user_age</th>\n",
       "      <th>sex_id</th>\n",
       "      <th>create_date_id</th>\n",
       "      <th>create_time</th>\n",
       "      <th>date_id</th>\n",
       "      <th>invest_time</th>\n",
       "      <th>areacode</th>\n",
       "      <th>plus_date</th>\n",
       "      <th>client_type_id</th>\n",
       "      <th>channel_id</th>\n",
       "      <th>pno</th>\n",
       "      <th>isrecharged</th>\n",
       "      <th>rechargestatus</th>\n",
       "      <th>isinvited</th>\n",
       "      <th>lastday_invite</th>\n",
       "      <th>lastamt_invite</th>\n",
       "      <th>callstatus</th>\n",
       "      <th>call_effec</th>\n",
       "      <th>gap_calltoinvest</th>\n",
       "      <th>last_calltime</th>\n",
       "      <th>call_times</th>\n",
       "      <th>staytime</th>\n",
       "      <th>staynum</th>\n",
       "      <th>staytime_recharge</th>\n",
       "      <th>staynum_recharge</th>\n",
       "      <th>staytime_p3</th>\n",
       "      <th>staynum_p3</th>\n",
       "      <th>staytime_p6</th>\n",
       "      <th>staynum_p6</th>\n",
       "      <th>staytime_p12</th>\n",
       "      <th>staynum_p12</th>\n",
       "      <th>staytime_ph</th>\n",
       "      <th>staynum_ph</th>\n",
       "      <th>staytime_p1</th>\n",
       "      <th>staynum_p1</th>\n",
       "      <th>staytime_buy</th>\n",
       "      <th>staynum_buy</th>\n",
       "      <th>staytime_asset</th>\n",
       "      <th>staynum_asset</th>\n",
       "      <th>staytime_redbag</th>\n",
       "      <th>staynum_redbag</th>\n",
       "      <th>staytime_hudong</th>\n",
       "      <th>staynum_hudong</th>\n",
       "      <th>staynum_banner</th>\n",
       "      <th>staynum_icon1</th>\n",
       "      <th>staynum_icon2</th>\n",
       "      <th>staynum_icon3</th>\n",
       "      <th>devicetype</th>\n",
       "      <th>isactive_aftercall</th>\n",
       "      <th>active_num</th>\n",
       "      <th>lastday_before_invest</th>\n",
       "      <th>lianxuday_last</th>\n",
       "      <th>rate</th>\n",
       "      <th>etl_time</th>\n",
       "    </tr>\n",
       "  </thead>\n",
       "  <tbody>\n",
       "    <tr>\n",
       "      <th>289424</th>\n",
       "      <td>10156839</td>\n",
       "      <td>xycdc44acc7ab6e9ef2352560da21b8fc320160926</td>\n",
       "      <td>未投资</td>\n",
       "      <td>31.0</td>\n",
       "      <td>2</td>\n",
       "      <td>20170809</td>\n",
       "      <td>2017-08-09 14:21:19.0</td>\n",
       "      <td>NaN</td>\n",
       "      <td>NaN</td>\n",
       "      <td>430100.0</td>\n",
       "      <td>NaN</td>\n",
       "      <td>2</td>\n",
       "      <td>5053</td>\n",
       "      <td>B523C775-A1F1-4D5A-85BD-7FE62DD26608</td>\n",
       "      <td>0</td>\n",
       "      <td>NaN</td>\n",
       "      <td>0</td>\n",
       "      <td>NaN</td>\n",
       "      <td>NaN</td>\n",
       "      <td>0</td>\n",
       "      <td>失败</td>\n",
       "      <td>NaN</td>\n",
       "      <td>NaN</td>\n",
       "      <td>NaN</td>\n",
       "      <td>NaN</td>\n",
       "      <td>47</td>\n",
       "      <td>NaN</td>\n",
       "      <td>0</td>\n",
       "      <td>NaN</td>\n",
       "      <td>3</td>\n",
       "      <td>NaN</td>\n",
       "      <td>0</td>\n",
       "      <td>NaN</td>\n",
       "      <td>1</td>\n",
       "      <td>NaN</td>\n",
       "      <td>0</td>\n",
       "      <td>NaN</td>\n",
       "      <td>4</td>\n",
       "      <td>NaN</td>\n",
       "      <td>3</td>\n",
       "      <td>NaN</td>\n",
       "      <td>0</td>\n",
       "      <td>NaN</td>\n",
       "      <td>0</td>\n",
       "      <td>NaN</td>\n",
       "      <td>0</td>\n",
       "      <td>0</td>\n",
       "      <td>0</td>\n",
       "      <td>0</td>\n",
       "      <td>0</td>\n",
       "      <td>iPhone 6s Plus</td>\n",
       "      <td>0</td>\n",
       "      <td>NaN</td>\n",
       "      <td>NaN</td>\n",
       "      <td>NaN</td>\n",
       "      <td>0.125294</td>\n",
       "      <td>2017-09-01</td>\n",
       "    </tr>\n",
       "    <tr>\n",
       "      <th>122488</th>\n",
       "      <td>10177530</td>\n",
       "      <td>xyc3589b5efe55ce5ff615e5f2c0f0940120160926</td>\n",
       "      <td>未投资</td>\n",
       "      <td>42.0</td>\n",
       "      <td>1</td>\n",
       "      <td>20170810</td>\n",
       "      <td>2017-08-10 14:54:37.0</td>\n",
       "      <td>NaN</td>\n",
       "      <td>NaN</td>\n",
       "      <td>610900.0</td>\n",
       "      <td>NaN</td>\n",
       "      <td>3</td>\n",
       "      <td>4762</td>\n",
       "      <td>864175034392311</td>\n",
       "      <td>0</td>\n",
       "      <td>NaN</td>\n",
       "      <td>0</td>\n",
       "      <td>NaN</td>\n",
       "      <td>NaN</td>\n",
       "      <td>0</td>\n",
       "      <td>失败</td>\n",
       "      <td>NaN</td>\n",
       "      <td>NaN</td>\n",
       "      <td>NaN</td>\n",
       "      <td>704.0</td>\n",
       "      <td>40</td>\n",
       "      <td>NaN</td>\n",
       "      <td>0</td>\n",
       "      <td>NaN</td>\n",
       "      <td>0</td>\n",
       "      <td>NaN</td>\n",
       "      <td>0</td>\n",
       "      <td>NaN</td>\n",
       "      <td>0</td>\n",
       "      <td>NaN</td>\n",
       "      <td>0</td>\n",
       "      <td>NaN</td>\n",
       "      <td>0</td>\n",
       "      <td>NaN</td>\n",
       "      <td>0</td>\n",
       "      <td>NaN</td>\n",
       "      <td>0</td>\n",
       "      <td>44.0</td>\n",
       "      <td>3</td>\n",
       "      <td>NaN</td>\n",
       "      <td>0</td>\n",
       "      <td>2</td>\n",
       "      <td>0</td>\n",
       "      <td>0</td>\n",
       "      <td>0</td>\n",
       "      <td>vivo Y66</td>\n",
       "      <td>0</td>\n",
       "      <td>4.0</td>\n",
       "      <td>NaN</td>\n",
       "      <td>0.0</td>\n",
       "      <td>0.057197</td>\n",
       "      <td>2017-09-01</td>\n",
       "    </tr>\n",
       "    <tr>\n",
       "      <th>353730</th>\n",
       "      <td>10560972</td>\n",
       "      <td>xy0bd7b00d083b5b52dcfd429f063ff80f20160926</td>\n",
       "      <td>未投资</td>\n",
       "      <td>27.0</td>\n",
       "      <td>2</td>\n",
       "      <td>20170828</td>\n",
       "      <td>2017-08-28 21:44:44.0</td>\n",
       "      <td>NaN</td>\n",
       "      <td>NaN</td>\n",
       "      <td>420607.0</td>\n",
       "      <td>NaN</td>\n",
       "      <td>3</td>\n",
       "      <td>2604</td>\n",
       "      <td>866506038965918</td>\n",
       "      <td>0</td>\n",
       "      <td>NaN</td>\n",
       "      <td>0</td>\n",
       "      <td>NaN</td>\n",
       "      <td>NaN</td>\n",
       "      <td>0</td>\n",
       "      <td>失败</td>\n",
       "      <td>NaN</td>\n",
       "      <td>NaN</td>\n",
       "      <td>NaN</td>\n",
       "      <td>657.0</td>\n",
       "      <td>53</td>\n",
       "      <td>NaN</td>\n",
       "      <td>0</td>\n",
       "      <td>NaN</td>\n",
       "      <td>0</td>\n",
       "      <td>NaN</td>\n",
       "      <td>0</td>\n",
       "      <td>NaN</td>\n",
       "      <td>0</td>\n",
       "      <td>NaN</td>\n",
       "      <td>0</td>\n",
       "      <td>77.0</td>\n",
       "      <td>3</td>\n",
       "      <td>46.0</td>\n",
       "      <td>3</td>\n",
       "      <td>29.0</td>\n",
       "      <td>6</td>\n",
       "      <td>2.0</td>\n",
       "      <td>2</td>\n",
       "      <td>4.0</td>\n",
       "      <td>1</td>\n",
       "      <td>0</td>\n",
       "      <td>1</td>\n",
       "      <td>0</td>\n",
       "      <td>0</td>\n",
       "      <td>OPPO R11</td>\n",
       "      <td>0</td>\n",
       "      <td>2.0</td>\n",
       "      <td>NaN</td>\n",
       "      <td>0.0</td>\n",
       "      <td>0.057736</td>\n",
       "      <td>2017-09-01</td>\n",
       "    </tr>\n",
       "    <tr>\n",
       "      <th>50992</th>\n",
       "      <td>10302454</td>\n",
       "      <td>xy8363be0d3ac8620dc5960de9ee82ec4c20160926</td>\n",
       "      <td>未投资</td>\n",
       "      <td>40.0</td>\n",
       "      <td>2</td>\n",
       "      <td>20170815</td>\n",
       "      <td>2017-08-15 11:18:45.0</td>\n",
       "      <td>NaN</td>\n",
       "      <td>NaN</td>\n",
       "      <td>370100.0</td>\n",
       "      <td>NaN</td>\n",
       "      <td>6</td>\n",
       "      <td>5204</td>\n",
       "      <td>NaN</td>\n",
       "      <td>0</td>\n",
       "      <td>NaN</td>\n",
       "      <td>1</td>\n",
       "      <td>19.0</td>\n",
       "      <td>5000.0</td>\n",
       "      <td>1</td>\n",
       "      <td>预约下次</td>\n",
       "      <td>NaN</td>\n",
       "      <td>2017-08-16 09:10:22.0</td>\n",
       "      <td>1.0</td>\n",
       "      <td>NaN</td>\n",
       "      <td>0</td>\n",
       "      <td>NaN</td>\n",
       "      <td>0</td>\n",
       "      <td>NaN</td>\n",
       "      <td>0</td>\n",
       "      <td>NaN</td>\n",
       "      <td>0</td>\n",
       "      <td>NaN</td>\n",
       "      <td>0</td>\n",
       "      <td>NaN</td>\n",
       "      <td>0</td>\n",
       "      <td>NaN</td>\n",
       "      <td>0</td>\n",
       "      <td>NaN</td>\n",
       "      <td>0</td>\n",
       "      <td>NaN</td>\n",
       "      <td>0</td>\n",
       "      <td>NaN</td>\n",
       "      <td>0</td>\n",
       "      <td>NaN</td>\n",
       "      <td>0</td>\n",
       "      <td>0</td>\n",
       "      <td>0</td>\n",
       "      <td>0</td>\n",
       "      <td>0</td>\n",
       "      <td>NaN</td>\n",
       "      <td>0</td>\n",
       "      <td>NaN</td>\n",
       "      <td>NaN</td>\n",
       "      <td>NaN</td>\n",
       "      <td>0.292232</td>\n",
       "      <td>2017-09-01</td>\n",
       "    </tr>\n",
       "    <tr>\n",
       "      <th>91744</th>\n",
       "      <td>10136911</td>\n",
       "      <td>xy664b6638045d592f127c78d3a54c377020160926</td>\n",
       "      <td>未投资</td>\n",
       "      <td>20.0</td>\n",
       "      <td>2</td>\n",
       "      <td>20170808</td>\n",
       "      <td>2017-08-08 13:35:20.0</td>\n",
       "      <td>NaN</td>\n",
       "      <td>NaN</td>\n",
       "      <td>140200.0</td>\n",
       "      <td>NaN</td>\n",
       "      <td>3</td>\n",
       "      <td>2604</td>\n",
       "      <td>861077031925031</td>\n",
       "      <td>0</td>\n",
       "      <td>NaN</td>\n",
       "      <td>0</td>\n",
       "      <td>NaN</td>\n",
       "      <td>NaN</td>\n",
       "      <td>1</td>\n",
       "      <td>预约下次</td>\n",
       "      <td>NaN</td>\n",
       "      <td>2017-08-09 11:51:35.0</td>\n",
       "      <td>1.0</td>\n",
       "      <td>1599.0</td>\n",
       "      <td>85</td>\n",
       "      <td>97.0</td>\n",
       "      <td>5</td>\n",
       "      <td>NaN</td>\n",
       "      <td>0</td>\n",
       "      <td>NaN</td>\n",
       "      <td>0</td>\n",
       "      <td>NaN</td>\n",
       "      <td>0</td>\n",
       "      <td>NaN</td>\n",
       "      <td>0</td>\n",
       "      <td>NaN</td>\n",
       "      <td>0</td>\n",
       "      <td>100.0</td>\n",
       "      <td>2</td>\n",
       "      <td>147.0</td>\n",
       "      <td>14</td>\n",
       "      <td>92.0</td>\n",
       "      <td>9</td>\n",
       "      <td>72.0</td>\n",
       "      <td>5</td>\n",
       "      <td>0</td>\n",
       "      <td>1</td>\n",
       "      <td>1</td>\n",
       "      <td>1</td>\n",
       "      <td>A31</td>\n",
       "      <td>0</td>\n",
       "      <td>2.0</td>\n",
       "      <td>NaN</td>\n",
       "      <td>0.0</td>\n",
       "      <td>0.057736</td>\n",
       "      <td>2017-09-01</td>\n",
       "    </tr>\n",
       "  </tbody>\n",
       "</table>\n",
       "</div>"
      ],
      "text/plain": [
       "         user_id                                      mobile isinvested  \\\n",
       "289424  10156839  xycdc44acc7ab6e9ef2352560da21b8fc320160926        未投资   \n",
       "122488  10177530  xyc3589b5efe55ce5ff615e5f2c0f0940120160926        未投资   \n",
       "353730  10560972  xy0bd7b00d083b5b52dcfd429f063ff80f20160926        未投资   \n",
       "50992   10302454  xy8363be0d3ac8620dc5960de9ee82ec4c20160926        未投资   \n",
       "91744   10136911  xy664b6638045d592f127c78d3a54c377020160926        未投资   \n",
       "\n",
       "        user_age  sex_id  create_date_id            create_time  date_id  \\\n",
       "289424      31.0       2        20170809  2017-08-09 14:21:19.0      NaN   \n",
       "122488      42.0       1        20170810  2017-08-10 14:54:37.0      NaN   \n",
       "353730      27.0       2        20170828  2017-08-28 21:44:44.0      NaN   \n",
       "50992       40.0       2        20170815  2017-08-15 11:18:45.0      NaN   \n",
       "91744       20.0       2        20170808  2017-08-08 13:35:20.0      NaN   \n",
       "\n",
       "       invest_time  areacode  plus_date  client_type_id  channel_id  \\\n",
       "289424         NaN  430100.0        NaN               2        5053   \n",
       "122488         NaN  610900.0        NaN               3        4762   \n",
       "353730         NaN  420607.0        NaN               3        2604   \n",
       "50992          NaN  370100.0        NaN               6        5204   \n",
       "91744          NaN  140200.0        NaN               3        2604   \n",
       "\n",
       "                                         pno  isrecharged  rechargestatus  \\\n",
       "289424  B523C775-A1F1-4D5A-85BD-7FE62DD26608            0             NaN   \n",
       "122488                       864175034392311            0             NaN   \n",
       "353730                       866506038965918            0             NaN   \n",
       "50992                                    NaN            0             NaN   \n",
       "91744                        861077031925031            0             NaN   \n",
       "\n",
       "        isinvited  lastday_invite  lastamt_invite  callstatus call_effec  \\\n",
       "289424          0             NaN             NaN           0         失败   \n",
       "122488          0             NaN             NaN           0         失败   \n",
       "353730          0             NaN             NaN           0         失败   \n",
       "50992           1            19.0          5000.0           1       预约下次   \n",
       "91744           0             NaN             NaN           1       预约下次   \n",
       "\n",
       "        gap_calltoinvest          last_calltime  call_times  staytime  \\\n",
       "289424               NaN                    NaN         NaN       NaN   \n",
       "122488               NaN                    NaN         NaN     704.0   \n",
       "353730               NaN                    NaN         NaN     657.0   \n",
       "50992                NaN  2017-08-16 09:10:22.0         1.0       NaN   \n",
       "91744                NaN  2017-08-09 11:51:35.0         1.0    1599.0   \n",
       "\n",
       "        staynum  staytime_recharge  staynum_recharge  staytime_p3  staynum_p3  \\\n",
       "289424       47                NaN                 0          NaN           3   \n",
       "122488       40                NaN                 0          NaN           0   \n",
       "353730       53                NaN                 0          NaN           0   \n",
       "50992         0                NaN                 0          NaN           0   \n",
       "91744        85               97.0                 5          NaN           0   \n",
       "\n",
       "        staytime_p6  staynum_p6  staytime_p12  staynum_p12  staytime_ph  \\\n",
       "289424          NaN           0           NaN            1          NaN   \n",
       "122488          NaN           0           NaN            0          NaN   \n",
       "353730          NaN           0           NaN            0          NaN   \n",
       "50992           NaN           0           NaN            0          NaN   \n",
       "91744           NaN           0           NaN            0          NaN   \n",
       "\n",
       "        staynum_ph  staytime_p1  staynum_p1  staytime_buy  staynum_buy  \\\n",
       "289424           0          NaN           4           NaN            3   \n",
       "122488           0          NaN           0           NaN            0   \n",
       "353730           0         77.0           3          46.0            3   \n",
       "50992            0          NaN           0           NaN            0   \n",
       "91744            0          NaN           0         100.0            2   \n",
       "\n",
       "        staytime_asset  staynum_asset  staytime_redbag  staynum_redbag  \\\n",
       "289424             NaN              0              NaN               0   \n",
       "122488             NaN              0             44.0               3   \n",
       "353730            29.0              6              2.0               2   \n",
       "50992              NaN              0              NaN               0   \n",
       "91744            147.0             14             92.0               9   \n",
       "\n",
       "        staytime_hudong  staynum_hudong  staynum_banner  staynum_icon1  \\\n",
       "289424              NaN               0               0              0   \n",
       "122488              NaN               0               2              0   \n",
       "353730              4.0               1               0              1   \n",
       "50992               NaN               0               0              0   \n",
       "91744              72.0               5               0              1   \n",
       "\n",
       "        staynum_icon2  staynum_icon3      devicetype  isactive_aftercall  \\\n",
       "289424              0              0  iPhone 6s Plus                   0   \n",
       "122488              0              0        vivo Y66                   0   \n",
       "353730              0              0        OPPO R11                   0   \n",
       "50992               0              0             NaN                   0   \n",
       "91744               1              1             A31                   0   \n",
       "\n",
       "        active_num  lastday_before_invest  lianxuday_last      rate  \\\n",
       "289424         NaN                    NaN             NaN  0.125294   \n",
       "122488         4.0                    NaN             0.0  0.057197   \n",
       "353730         2.0                    NaN             0.0  0.057736   \n",
       "50992          NaN                    NaN             NaN  0.292232   \n",
       "91744          2.0                    NaN             0.0  0.057736   \n",
       "\n",
       "          etl_time  \n",
       "289424  2017-09-01  \n",
       "122488  2017-09-01  \n",
       "353730  2017-09-01  \n",
       "50992   2017-09-01  \n",
       "91744   2017-09-01  "
      ]
     },
     "execution_count": 10,
     "metadata": {},
     "output_type": "execute_result"
    }
   ],
   "source": [
    "data_test.head()"
   ]
  },
  {
   "cell_type": "code",
   "execution_count": 11,
   "metadata": {
    "collapsed": true
   },
   "outputs": [],
   "source": [
    "data_test.user_id.to_csv('test_user_id.csv', header=False, index_label=None)"
   ]
  },
  {
   "cell_type": "markdown",
   "metadata": {},
   "source": [
    "# Sampling (stratified 1:1)"
   ]
  },
  {
   "cell_type": "code",
   "execution_count": 12,
   "metadata": {},
   "outputs": [
    {
     "data": {
      "text/html": [
       "<div>\n",
       "<style>\n",
       "    .dataframe thead tr:only-child th {\n",
       "        text-align: right;\n",
       "    }\n",
       "\n",
       "    .dataframe thead th {\n",
       "        text-align: left;\n",
       "    }\n",
       "\n",
       "    .dataframe tbody tr th {\n",
       "        vertical-align: top;\n",
       "    }\n",
       "</style>\n",
       "<table border=\"1\" class=\"dataframe\">\n",
       "  <thead>\n",
       "    <tr style=\"text-align: right;\">\n",
       "      <th></th>\n",
       "      <th>user_id</th>\n",
       "      <th>mobile</th>\n",
       "      <th>isinvested</th>\n",
       "      <th>user_age</th>\n",
       "      <th>sex_id</th>\n",
       "      <th>create_date_id</th>\n",
       "      <th>create_time</th>\n",
       "      <th>date_id</th>\n",
       "      <th>invest_time</th>\n",
       "      <th>areacode</th>\n",
       "      <th>plus_date</th>\n",
       "      <th>client_type_id</th>\n",
       "      <th>channel_id</th>\n",
       "      <th>pno</th>\n",
       "      <th>isrecharged</th>\n",
       "      <th>rechargestatus</th>\n",
       "      <th>isinvited</th>\n",
       "      <th>lastday_invite</th>\n",
       "      <th>lastamt_invite</th>\n",
       "      <th>callstatus</th>\n",
       "      <th>call_effec</th>\n",
       "      <th>gap_calltoinvest</th>\n",
       "      <th>last_calltime</th>\n",
       "      <th>call_times</th>\n",
       "      <th>staytime</th>\n",
       "      <th>staynum</th>\n",
       "      <th>staytime_recharge</th>\n",
       "      <th>staynum_recharge</th>\n",
       "      <th>staytime_p3</th>\n",
       "      <th>staynum_p3</th>\n",
       "      <th>staytime_p6</th>\n",
       "      <th>staynum_p6</th>\n",
       "      <th>staytime_p12</th>\n",
       "      <th>staynum_p12</th>\n",
       "      <th>staytime_ph</th>\n",
       "      <th>staynum_ph</th>\n",
       "      <th>staytime_p1</th>\n",
       "      <th>staynum_p1</th>\n",
       "      <th>staytime_buy</th>\n",
       "      <th>staynum_buy</th>\n",
       "      <th>staytime_asset</th>\n",
       "      <th>staynum_asset</th>\n",
       "      <th>staytime_redbag</th>\n",
       "      <th>staynum_redbag</th>\n",
       "      <th>staytime_hudong</th>\n",
       "      <th>staynum_hudong</th>\n",
       "      <th>staynum_banner</th>\n",
       "      <th>staynum_icon1</th>\n",
       "      <th>staynum_icon2</th>\n",
       "      <th>staynum_icon3</th>\n",
       "      <th>devicetype</th>\n",
       "      <th>isactive_aftercall</th>\n",
       "      <th>active_num</th>\n",
       "      <th>lastday_before_invest</th>\n",
       "      <th>lianxuday_last</th>\n",
       "      <th>rate</th>\n",
       "      <th>etl_time</th>\n",
       "    </tr>\n",
       "  </thead>\n",
       "  <tbody>\n",
       "    <tr>\n",
       "      <th>183849</th>\n",
       "      <td>10356954</td>\n",
       "      <td>xy5a335f9caf14a3a89b3acb3d98fee1b220160926</td>\n",
       "      <td>未投资</td>\n",
       "      <td>NaN</td>\n",
       "      <td>0</td>\n",
       "      <td>20170817</td>\n",
       "      <td>2017-08-17 12:22:59.0</td>\n",
       "      <td>NaN</td>\n",
       "      <td>NaN</td>\n",
       "      <td>430500.0</td>\n",
       "      <td>NaN</td>\n",
       "      <td>6</td>\n",
       "      <td>947</td>\n",
       "      <td>NaN</td>\n",
       "      <td>0</td>\n",
       "      <td>NaN</td>\n",
       "      <td>0</td>\n",
       "      <td>NaN</td>\n",
       "      <td>NaN</td>\n",
       "      <td>0</td>\n",
       "      <td>失败</td>\n",
       "      <td>NaN</td>\n",
       "      <td>NaN</td>\n",
       "      <td>NaN</td>\n",
       "      <td>NaN</td>\n",
       "      <td>0</td>\n",
       "      <td>NaN</td>\n",
       "      <td>0</td>\n",
       "      <td>NaN</td>\n",
       "      <td>0</td>\n",
       "      <td>NaN</td>\n",
       "      <td>0</td>\n",
       "      <td>NaN</td>\n",
       "      <td>0</td>\n",
       "      <td>NaN</td>\n",
       "      <td>0</td>\n",
       "      <td>NaN</td>\n",
       "      <td>0</td>\n",
       "      <td>NaN</td>\n",
       "      <td>0</td>\n",
       "      <td>NaN</td>\n",
       "      <td>0</td>\n",
       "      <td>NaN</td>\n",
       "      <td>0</td>\n",
       "      <td>NaN</td>\n",
       "      <td>0</td>\n",
       "      <td>0</td>\n",
       "      <td>0</td>\n",
       "      <td>0</td>\n",
       "      <td>0</td>\n",
       "      <td>NaN</td>\n",
       "      <td>0</td>\n",
       "      <td>NaN</td>\n",
       "      <td>NaN</td>\n",
       "      <td>NaN</td>\n",
       "      <td>0.072558</td>\n",
       "      <td>2017-09-01</td>\n",
       "    </tr>\n",
       "    <tr>\n",
       "      <th>117601</th>\n",
       "      <td>10042413</td>\n",
       "      <td>xydd6e33236f977a649690af0d7639233720160926</td>\n",
       "      <td>已投资</td>\n",
       "      <td>28.0</td>\n",
       "      <td>2</td>\n",
       "      <td>20170803</td>\n",
       "      <td>2017-08-03 01:30:49.0</td>\n",
       "      <td>20170808.0</td>\n",
       "      <td>2017-08-08 15:37:05.0</td>\n",
       "      <td>420100.0</td>\n",
       "      <td>5.0</td>\n",
       "      <td>2</td>\n",
       "      <td>5053</td>\n",
       "      <td>8B4228A9-535A-4412-928E-8522AD21AA50</td>\n",
       "      <td>0</td>\n",
       "      <td>NaN</td>\n",
       "      <td>0</td>\n",
       "      <td>NaN</td>\n",
       "      <td>NaN</td>\n",
       "      <td>0</td>\n",
       "      <td>失败</td>\n",
       "      <td>NaN</td>\n",
       "      <td>NaN</td>\n",
       "      <td>NaN</td>\n",
       "      <td>NaN</td>\n",
       "      <td>0</td>\n",
       "      <td>NaN</td>\n",
       "      <td>0</td>\n",
       "      <td>NaN</td>\n",
       "      <td>0</td>\n",
       "      <td>NaN</td>\n",
       "      <td>0</td>\n",
       "      <td>NaN</td>\n",
       "      <td>0</td>\n",
       "      <td>NaN</td>\n",
       "      <td>0</td>\n",
       "      <td>NaN</td>\n",
       "      <td>0</td>\n",
       "      <td>NaN</td>\n",
       "      <td>0</td>\n",
       "      <td>NaN</td>\n",
       "      <td>0</td>\n",
       "      <td>NaN</td>\n",
       "      <td>0</td>\n",
       "      <td>NaN</td>\n",
       "      <td>0</td>\n",
       "      <td>0</td>\n",
       "      <td>0</td>\n",
       "      <td>0</td>\n",
       "      <td>0</td>\n",
       "      <td>iPhone 6</td>\n",
       "      <td>0</td>\n",
       "      <td>NaN</td>\n",
       "      <td>NaN</td>\n",
       "      <td>NaN</td>\n",
       "      <td>0.125294</td>\n",
       "      <td>2017-09-01</td>\n",
       "    </tr>\n",
       "    <tr>\n",
       "      <th>117931</th>\n",
       "      <td>10117613</td>\n",
       "      <td>xy176c92414bb98501e99cb1df0df772f920160926</td>\n",
       "      <td>未投资</td>\n",
       "      <td>NaN</td>\n",
       "      <td>0</td>\n",
       "      <td>20170807</td>\n",
       "      <td>2017-08-07 14:53:39.0</td>\n",
       "      <td>NaN</td>\n",
       "      <td>NaN</td>\n",
       "      <td>130700.0</td>\n",
       "      <td>NaN</td>\n",
       "      <td>3</td>\n",
       "      <td>68</td>\n",
       "      <td>867142029584630</td>\n",
       "      <td>0</td>\n",
       "      <td>NaN</td>\n",
       "      <td>0</td>\n",
       "      <td>NaN</td>\n",
       "      <td>NaN</td>\n",
       "      <td>0</td>\n",
       "      <td>失败</td>\n",
       "      <td>NaN</td>\n",
       "      <td>NaN</td>\n",
       "      <td>NaN</td>\n",
       "      <td>1628.0</td>\n",
       "      <td>47</td>\n",
       "      <td>NaN</td>\n",
       "      <td>0</td>\n",
       "      <td>NaN</td>\n",
       "      <td>0</td>\n",
       "      <td>NaN</td>\n",
       "      <td>0</td>\n",
       "      <td>NaN</td>\n",
       "      <td>0</td>\n",
       "      <td>NaN</td>\n",
       "      <td>0</td>\n",
       "      <td>NaN</td>\n",
       "      <td>0</td>\n",
       "      <td>NaN</td>\n",
       "      <td>0</td>\n",
       "      <td>NaN</td>\n",
       "      <td>0</td>\n",
       "      <td>NaN</td>\n",
       "      <td>0</td>\n",
       "      <td>NaN</td>\n",
       "      <td>0</td>\n",
       "      <td>0</td>\n",
       "      <td>0</td>\n",
       "      <td>0</td>\n",
       "      <td>0</td>\n",
       "      <td>vivo Y23L</td>\n",
       "      <td>0</td>\n",
       "      <td>2.0</td>\n",
       "      <td>NaN</td>\n",
       "      <td>0.0</td>\n",
       "      <td>0.067754</td>\n",
       "      <td>2017-09-01</td>\n",
       "    </tr>\n",
       "    <tr>\n",
       "      <th>301519</th>\n",
       "      <td>10545291</td>\n",
       "      <td>xyb34d271d82b248fa129641ba5ca4120020160926</td>\n",
       "      <td>未投资</td>\n",
       "      <td>NaN</td>\n",
       "      <td>0</td>\n",
       "      <td>20170827</td>\n",
       "      <td>2017-08-27 18:16:29.0</td>\n",
       "      <td>NaN</td>\n",
       "      <td>NaN</td>\n",
       "      <td>652200.0</td>\n",
       "      <td>NaN</td>\n",
       "      <td>6</td>\n",
       "      <td>4549</td>\n",
       "      <td>NaN</td>\n",
       "      <td>0</td>\n",
       "      <td>NaN</td>\n",
       "      <td>1</td>\n",
       "      <td>8.0</td>\n",
       "      <td>100.0</td>\n",
       "      <td>0</td>\n",
       "      <td>失败</td>\n",
       "      <td>NaN</td>\n",
       "      <td>NaN</td>\n",
       "      <td>NaN</td>\n",
       "      <td>NaN</td>\n",
       "      <td>0</td>\n",
       "      <td>NaN</td>\n",
       "      <td>0</td>\n",
       "      <td>NaN</td>\n",
       "      <td>0</td>\n",
       "      <td>NaN</td>\n",
       "      <td>0</td>\n",
       "      <td>NaN</td>\n",
       "      <td>0</td>\n",
       "      <td>NaN</td>\n",
       "      <td>0</td>\n",
       "      <td>NaN</td>\n",
       "      <td>0</td>\n",
       "      <td>NaN</td>\n",
       "      <td>0</td>\n",
       "      <td>NaN</td>\n",
       "      <td>0</td>\n",
       "      <td>NaN</td>\n",
       "      <td>0</td>\n",
       "      <td>NaN</td>\n",
       "      <td>0</td>\n",
       "      <td>0</td>\n",
       "      <td>0</td>\n",
       "      <td>0</td>\n",
       "      <td>0</td>\n",
       "      <td>NaN</td>\n",
       "      <td>0</td>\n",
       "      <td>NaN</td>\n",
       "      <td>NaN</td>\n",
       "      <td>NaN</td>\n",
       "      <td>0.052806</td>\n",
       "      <td>2017-09-01</td>\n",
       "    </tr>\n",
       "    <tr>\n",
       "      <th>316723</th>\n",
       "      <td>10521153</td>\n",
       "      <td>xybd50039b8d8030f4b3b4da5d68cf9d7f20160926</td>\n",
       "      <td>已投资</td>\n",
       "      <td>34.0</td>\n",
       "      <td>1</td>\n",
       "      <td>20170825</td>\n",
       "      <td>2017-08-25 22:20:46.0</td>\n",
       "      <td>20170828.0</td>\n",
       "      <td>2017-08-28 19:50:15.0</td>\n",
       "      <td>110100.0</td>\n",
       "      <td>3.0</td>\n",
       "      <td>6</td>\n",
       "      <td>947</td>\n",
       "      <td>26DECFB0-8FCE-4C3E-994F-083E5C3424C9</td>\n",
       "      <td>1</td>\n",
       "      <td>1.0</td>\n",
       "      <td>0</td>\n",
       "      <td>NaN</td>\n",
       "      <td>NaN</td>\n",
       "      <td>0</td>\n",
       "      <td>失败</td>\n",
       "      <td>NaN</td>\n",
       "      <td>NaN</td>\n",
       "      <td>NaN</td>\n",
       "      <td>NaN</td>\n",
       "      <td>0</td>\n",
       "      <td>NaN</td>\n",
       "      <td>0</td>\n",
       "      <td>NaN</td>\n",
       "      <td>0</td>\n",
       "      <td>NaN</td>\n",
       "      <td>0</td>\n",
       "      <td>NaN</td>\n",
       "      <td>0</td>\n",
       "      <td>NaN</td>\n",
       "      <td>0</td>\n",
       "      <td>NaN</td>\n",
       "      <td>0</td>\n",
       "      <td>NaN</td>\n",
       "      <td>0</td>\n",
       "      <td>NaN</td>\n",
       "      <td>0</td>\n",
       "      <td>NaN</td>\n",
       "      <td>0</td>\n",
       "      <td>NaN</td>\n",
       "      <td>0</td>\n",
       "      <td>0</td>\n",
       "      <td>0</td>\n",
       "      <td>0</td>\n",
       "      <td>0</td>\n",
       "      <td>iPhone 6 Plus</td>\n",
       "      <td>0</td>\n",
       "      <td>NaN</td>\n",
       "      <td>NaN</td>\n",
       "      <td>NaN</td>\n",
       "      <td>0.072558</td>\n",
       "      <td>2017-09-01</td>\n",
       "    </tr>\n",
       "  </tbody>\n",
       "</table>\n",
       "</div>"
      ],
      "text/plain": [
       "         user_id                                      mobile isinvested  \\\n",
       "183849  10356954  xy5a335f9caf14a3a89b3acb3d98fee1b220160926        未投资   \n",
       "117601  10042413  xydd6e33236f977a649690af0d7639233720160926        已投资   \n",
       "117931  10117613  xy176c92414bb98501e99cb1df0df772f920160926        未投资   \n",
       "301519  10545291  xyb34d271d82b248fa129641ba5ca4120020160926        未投资   \n",
       "316723  10521153  xybd50039b8d8030f4b3b4da5d68cf9d7f20160926        已投资   \n",
       "\n",
       "        user_age  sex_id  create_date_id            create_time     date_id  \\\n",
       "183849       NaN       0        20170817  2017-08-17 12:22:59.0         NaN   \n",
       "117601      28.0       2        20170803  2017-08-03 01:30:49.0  20170808.0   \n",
       "117931       NaN       0        20170807  2017-08-07 14:53:39.0         NaN   \n",
       "301519       NaN       0        20170827  2017-08-27 18:16:29.0         NaN   \n",
       "316723      34.0       1        20170825  2017-08-25 22:20:46.0  20170828.0   \n",
       "\n",
       "                  invest_time  areacode  plus_date  client_type_id  \\\n",
       "183849                    NaN  430500.0        NaN               6   \n",
       "117601  2017-08-08 15:37:05.0  420100.0        5.0               2   \n",
       "117931                    NaN  130700.0        NaN               3   \n",
       "301519                    NaN  652200.0        NaN               6   \n",
       "316723  2017-08-28 19:50:15.0  110100.0        3.0               6   \n",
       "\n",
       "        channel_id                                   pno  isrecharged  \\\n",
       "183849         947                                   NaN            0   \n",
       "117601        5053  8B4228A9-535A-4412-928E-8522AD21AA50            0   \n",
       "117931          68                       867142029584630            0   \n",
       "301519        4549                                   NaN            0   \n",
       "316723         947  26DECFB0-8FCE-4C3E-994F-083E5C3424C9            1   \n",
       "\n",
       "        rechargestatus  isinvited  lastday_invite  lastamt_invite  callstatus  \\\n",
       "183849             NaN          0             NaN             NaN           0   \n",
       "117601             NaN          0             NaN             NaN           0   \n",
       "117931             NaN          0             NaN             NaN           0   \n",
       "301519             NaN          1             8.0           100.0           0   \n",
       "316723             1.0          0             NaN             NaN           0   \n",
       "\n",
       "       call_effec  gap_calltoinvest last_calltime  call_times  staytime  \\\n",
       "183849         失败               NaN           NaN         NaN       NaN   \n",
       "117601         失败               NaN           NaN         NaN       NaN   \n",
       "117931         失败               NaN           NaN         NaN    1628.0   \n",
       "301519         失败               NaN           NaN         NaN       NaN   \n",
       "316723         失败               NaN           NaN         NaN       NaN   \n",
       "\n",
       "        staynum  staytime_recharge  staynum_recharge  staytime_p3  staynum_p3  \\\n",
       "183849        0                NaN                 0          NaN           0   \n",
       "117601        0                NaN                 0          NaN           0   \n",
       "117931       47                NaN                 0          NaN           0   \n",
       "301519        0                NaN                 0          NaN           0   \n",
       "316723        0                NaN                 0          NaN           0   \n",
       "\n",
       "        staytime_p6  staynum_p6  staytime_p12  staynum_p12  staytime_ph  \\\n",
       "183849          NaN           0           NaN            0          NaN   \n",
       "117601          NaN           0           NaN            0          NaN   \n",
       "117931          NaN           0           NaN            0          NaN   \n",
       "301519          NaN           0           NaN            0          NaN   \n",
       "316723          NaN           0           NaN            0          NaN   \n",
       "\n",
       "        staynum_ph  staytime_p1  staynum_p1  staytime_buy  staynum_buy  \\\n",
       "183849           0          NaN           0           NaN            0   \n",
       "117601           0          NaN           0           NaN            0   \n",
       "117931           0          NaN           0           NaN            0   \n",
       "301519           0          NaN           0           NaN            0   \n",
       "316723           0          NaN           0           NaN            0   \n",
       "\n",
       "        staytime_asset  staynum_asset  staytime_redbag  staynum_redbag  \\\n",
       "183849             NaN              0              NaN               0   \n",
       "117601             NaN              0              NaN               0   \n",
       "117931             NaN              0              NaN               0   \n",
       "301519             NaN              0              NaN               0   \n",
       "316723             NaN              0              NaN               0   \n",
       "\n",
       "        staytime_hudong  staynum_hudong  staynum_banner  staynum_icon1  \\\n",
       "183849              NaN               0               0              0   \n",
       "117601              NaN               0               0              0   \n",
       "117931              NaN               0               0              0   \n",
       "301519              NaN               0               0              0   \n",
       "316723              NaN               0               0              0   \n",
       "\n",
       "        staynum_icon2  staynum_icon3     devicetype  isactive_aftercall  \\\n",
       "183849              0              0            NaN                   0   \n",
       "117601              0              0       iPhone 6                   0   \n",
       "117931              0              0      vivo Y23L                   0   \n",
       "301519              0              0            NaN                   0   \n",
       "316723              0              0  iPhone 6 Plus                   0   \n",
       "\n",
       "        active_num  lastday_before_invest  lianxuday_last      rate  \\\n",
       "183849         NaN                    NaN             NaN  0.072558   \n",
       "117601         NaN                    NaN             NaN  0.125294   \n",
       "117931         2.0                    NaN             0.0  0.067754   \n",
       "301519         NaN                    NaN             NaN  0.052806   \n",
       "316723         NaN                    NaN             NaN  0.072558   \n",
       "\n",
       "          etl_time  \n",
       "183849  2017-09-01  \n",
       "117601  2017-09-01  \n",
       "117931  2017-09-01  \n",
       "301519  2017-09-01  \n",
       "316723  2017-09-01  "
      ]
     },
     "execution_count": 12,
     "metadata": {},
     "output_type": "execute_result"
    }
   ],
   "source": [
    "data_train.head()"
   ]
  },
  {
   "cell_type": "code",
   "execution_count": 13,
   "metadata": {
    "collapsed": true
   },
   "outputs": [],
   "source": [
    "X_train = data_train.iloc[:, :2].join(data_train.iloc[:, 3:])\n",
    "y_train = data_train.iloc[:, 2]"
   ]
  },
  {
   "cell_type": "code",
   "execution_count": 14,
   "metadata": {},
   "outputs": [
    {
     "name": "stdout",
     "output_type": "stream",
     "text": [
      "14326\n"
     ]
    }
   ],
   "source": [
    "stf_size = len(y_train[y_train == '已投资'])\n",
    "print(stf_size)"
   ]
  },
  {
   "cell_type": "code",
   "execution_count": 15,
   "metadata": {
    "collapsed": true
   },
   "outputs": [],
   "source": [
    "data_train_stf_0 = data_train[data_train.isinvested == '未投资']\n",
    "data_train_stf_0 = data_train_stf_0.iloc[:stf_size, :]\n",
    "data_train_stf_1 = data_train[data_train.isinvested == '已投资']\n",
    "data_train_stf = data_train_stf_0.append(data_train_stf_1)"
   ]
  },
  {
   "cell_type": "code",
   "execution_count": 16,
   "metadata": {
    "collapsed": true
   },
   "outputs": [],
   "source": [
    "from sklearn.utils import shuffle\n",
    "\n",
    "data_train_stf = shuffle(data_train_stf, random_state=13)"
   ]
  },
  {
   "cell_type": "code",
   "execution_count": 17,
   "metadata": {},
   "outputs": [
    {
     "data": {
      "text/plain": [
       "已投资    14326\n",
       "未投资    14326\n",
       "Name: isinvested, dtype: int64"
      ]
     },
     "execution_count": 17,
     "metadata": {},
     "output_type": "execute_result"
    }
   ],
   "source": [
    "data_train_stf.isinvested.value_counts()"
   ]
  },
  {
   "cell_type": "code",
   "execution_count": 18,
   "metadata": {
    "collapsed": true
   },
   "outputs": [],
   "source": [
    "data_train_stf.to_csv('data_train_stf.csv')"
   ]
  },
  {
   "cell_type": "markdown",
   "metadata": {},
   "source": [
    "# Raw data (preliminarily processed) Checkpoint"
   ]
  },
  {
   "cell_type": "code",
   "execution_count": 19,
   "metadata": {
    "collapsed": true
   },
   "outputs": [],
   "source": [
    "import numpy as np\n",
    "import pandas as pd\n",
    "import matplotlib.pyplot as plt\n",
    "from IPython.display import display\n",
    "from zodbpickle import pickle\n",
    "from IPython.display import display\n",
    "pd.set_option('display.max_columns', 100)\n",
    "%matplotlib inline\n",
    "\n",
    "# data_train = pd.read_csv('data_train_all.csv')\n",
    "data_train = pd.DataFrame.from_csv('data_train_all.csv')\n",
    "data_test = pd.DataFrame.from_csv('data_test_all.csv')"
   ]
  },
  {
   "cell_type": "markdown",
   "metadata": {},
   "source": [
    "# Begin Feature Engineering\n",
    "## Plan A -- using data_train_all"
   ]
  },
  {
   "cell_type": "code",
   "execution_count": 20,
   "metadata": {
    "collapsed": true
   },
   "outputs": [],
   "source": [
    "# Reset shuffled indices\n",
    "data_train.reset_index(drop=True, inplace=True)"
   ]
  },
  {
   "cell_type": "code",
   "execution_count": null,
   "metadata": {
    "collapsed": true
   },
   "outputs": [],
   "source": [
    "# Cheat code\n",
    "num_rows = data_train.shape[0]\n",
    "num_cols = data_train.shape[1]\n",
    "data_train.loc[num_rows, :] = np.array([np.nan] * num_cols)"
   ]
  },
  {
   "cell_type": "markdown",
   "metadata": {},
   "source": [
    "### Determine columns-to-drop"
   ]
  },
  {
   "cell_type": "code",
   "execution_count": null,
   "metadata": {
    "collapsed": true
   },
   "outputs": [],
   "source": [
    "def drop_columns(df):\n",
    "    drop_useless_cols = ['user_id', 'mobile', 'pno']\n",
    "    drop_might_be_useful_cols = ['create_date_id', 'create_time', 'areacode', 'devicetype']\n",
    "    drop_future_cols = ['date_id', 'invest_time', 'active_num', 'lastday_before_invest', 'lianxuday_last', 'rate']\n",
    "    drop_alter_label = ['plus_date']\n",
    "    drop_call_cols = ['callstatus', 'call_effec', 'gap_calltoinvest', 'last_calltime',\n",
    "           'call_times', 'isactive_aftercall']\n",
    "    drop_other_cols = ['etl_time']\n",
    "\n",
    "    drop_total = list(set(drop_useless_cols + drop_might_be_useful_cols + drop_future_cols + drop_alter_label + drop_call_cols + drop_other_cols))\n",
    "#     print(len(drop_useless_cols) + len(drop_might_be_useful_cols) + len(drop_future_cols), len(drop_alter_label), len(drop_call_cols), len(drop_other_cols), len(drop_total))\n",
    "    df_modified = df.drop(drop_total, axis=1)\n",
    "#     print(\"{} cols dropped.\".format(len(cols_to_drop_tuple)))\n",
    "\n",
    "    # Drop the stay-series, to be added back\n",
    "    df_modified = df_modified.iloc[:, :12]\n",
    "    \n",
    "    return df_modified"
   ]
  },
  {
   "cell_type": "code",
   "execution_count": null,
   "metadata": {
    "collapsed": true
   },
   "outputs": [],
   "source": [
    "data_train = drop_columns(data_train)"
   ]
  },
  {
   "cell_type": "code",
   "execution_count": null,
   "metadata": {
    "collapsed": true
   },
   "outputs": [],
   "source": [
    "import numpy as np\n",
    "import pandas as pd\n",
    "import collections\n",
    "import operator\n",
    "from sklearn.preprocessing import LabelEncoder\n",
    "\n",
    "class BinOHE(object):\n",
    "    def __init__(self, colname):\n",
    "        self.bin_enc_dict = {}\n",
    "        self.colname = colname\n",
    "        self.label_enc = None\n",
    "        self.one_hot_cols = []\n",
    "\n",
    "    def __repr__(self):\n",
    "        return 'BinOHE(BinEncoder={0} for {1}, OneHotEncoder=())'.format(self.bin_enc_dict, self.colname) if self.label_enc is None else 'BinOHE(BinEncoder={0} for {1}, OneHotEncoder={2})'.format(self.bin_enc_dict, self.colname, self.label_enc.classes_)\n",
    "\n",
    "    def categorical_fit(self, df, bins=10):\n",
    "        ### first step: susbstitute categorical variables as frequencies \n",
    "        count = df[self.colname].value_counts()\n",
    "        dict_temp = count.to_dict()\n",
    "        nan_num = df[self.colname].isnull().sum()\n",
    "\n",
    "        if nan_num > 0:\n",
    "            dict_temp['nan'] = nan_num\n",
    "\n",
    "        ### second step: sort the counter in a decreasing order\n",
    "        sorted_counter = sorted(dict_temp.items(), key=operator.itemgetter(1))\n",
    "        sorted_counter.reverse()\n",
    "\n",
    "        num_rows = len(df[self.colname])\n",
    "        \n",
    "        if len(sorted_counter) > bins:\n",
    "            accum = 0\n",
    "\n",
    "            for i in range(len(sorted_counter)):\n",
    "                accum = accum + sorted_counter[i][1]\n",
    "                percent = float(accum) / num_rows\n",
    "\n",
    "                if percent < 0.8:\n",
    "                    tmp_str = 'bin_'+ str(i) \n",
    "                    sorted_counter[i] = (sorted_counter[i][0], tmp_str)\n",
    "                else:  \n",
    "                    tmp_str = 'others'\n",
    "                    sorted_counter[i] = (sorted_counter[i][0], tmp_str)\n",
    "        else:\n",
    "            for i in range(len(sorted_counter)):\n",
    "                tmp_str = 'bin_'+ str(i)\n",
    "                sorted_counter[i] = (sorted_counter[i][0], tmp_str)\n",
    "\n",
    "        self.bin_enc_dict = dict(sorted_counter)\n",
    "\n",
    "    def categorical_transform(self, df_new):\n",
    "        new_key_no_nan_set = set(df_new[self.colname].value_counts().index)\n",
    "        new_key_no_nan_set.add('nan')\n",
    "        new_key_set = new_key_no_nan_set\n",
    "        \n",
    "#         print(new_key_set)\n",
    "        first_seen_keys = {k for k in new_key_set if k not in self.bin_enc_dict}\n",
    "        decoder_dict = {}\n",
    "\n",
    "        for key in new_key_set:\n",
    "            if key in first_seen_keys:\n",
    "                decoder_dict[key] = 'others'\n",
    "            else:\n",
    "                decoder_dict[key] = self.bin_enc_dict[key]\n",
    "\n",
    "        df_new[self.colname] = df_new[self.colname].map(decoder_dict)\n",
    "\n",
    "        return df_new\n",
    "\n",
    "    def categorical_fit_transform(self, df, bins=10):\n",
    "        self.categorical_fit(df, bins=bins)\n",
    "\n",
    "        return self.categorical_transform(df)\n",
    "\n",
    "    def ohe_fit(self, df):      \n",
    "        self.value_list = list(map(str, sorted(list(df[self.colname].unique()), key=str)))\n",
    "        \n",
    "        self.label_enc = LabelEncoder()\n",
    "        self.label_enc.fit(self.value_list)\n",
    "        print(self.label_enc.classes_)\n",
    "        \n",
    "        self.one_hot_cols = [self.colname + '_' + x for x in self.value_list[1:]]\n",
    "            \n",
    "    def ohe_transform(self, df_new):\n",
    "        cat_temp_list = [str(x) if str(x) in self.value_list else str(np.nan) for x in df_new[self.colname]]\n",
    "        df_new[self.colname] = self.label_enc.transform(cat_temp_list)\n",
    "        \n",
    "        new_df_num_rows = df_new.shape[0]\n",
    "        new_one_hot_arr = np.zeros((new_df_num_rows, len(self.one_hot_cols)))\n",
    "        \n",
    "        # TODO: Use apply/map to replace the for loop\n",
    "        for x in range(new_df_num_rows):\n",
    "            val = df_new[self.colname].iloc[x]\n",
    "            \n",
    "            if val != 0:\n",
    "                new_one_hot_arr[x, val - 1] = 1\n",
    "        \n",
    "        one_hot_df_new = pd.DataFrame(new_one_hot_arr, columns=self.one_hot_cols)\n",
    "        df_new = df_new.join(one_hot_df_new)\n",
    "        \n",
    "        df_new.drop([self.colname], axis=1, inplace=True)\n",
    "        \n",
    "        return df_new\n",
    "\n",
    "    def ohe_fit_transform(self, df):\n",
    "        self.ohe_fit(df)\n",
    "\n",
    "        return self.ohe_transform(df)\n",
    "\n",
    "class NumericalProc(object):\n",
    "    def __init__(self, colname):\n",
    "        self.colname = colname\n",
    "        \n",
    "    def remove_neg_fillna_add_ind_col_fit(self, df):\n",
    "        self.median = df[self.colname].median()\n",
    "    \n",
    "    def remove_neg_fillna_add_ind_col_transform(self, df_new):\n",
    "        df_new.loc[(df_new[self.colname] < 0) | (df_new[self.colname].isnull()), self.colname] = np.nan\n",
    "        \n",
    "        invalid_list = [1 if np.isnan(x) else 0 for x in df_new[self.colname]]\n",
    "        df_new[self.colname + '_nan_ind'] = invalid_list\n",
    "        df_new[self.colname] = df_new[self.colname].fillna(self.median)\n",
    "\n",
    "        return df_new"
   ]
  },
  {
   "cell_type": "markdown",
   "metadata": {},
   "source": [
    "## Process `user_age`"
   ]
  },
  {
   "cell_type": "code",
   "execution_count": null,
   "metadata": {
    "collapsed": true
   },
   "outputs": [],
   "source": [
    "data_train.user_age.describe()"
   ]
  },
  {
   "cell_type": "code",
   "execution_count": null,
   "metadata": {
    "collapsed": true
   },
   "outputs": [],
   "source": [
    "# def numerical_proc_gen(df, colname):\n",
    "#     df.loc[(df[colname] < 18) | (df[colname].isnull()), colname] = np.nan\n",
    "#     median = df[colname].median()\n",
    "    \n",
    "#     def numerical_age_proc(df_new):\n",
    "#         invalid_list = [1 if np.isnan(x) else 0 for x in df_new[colname]]\n",
    "#         df_new[colname + '_nan_ind'] = invalid_list\n",
    "#         df_new[colname] = df_new[colname].fillna(median)\n",
    "        \n",
    "#         return df_new\n",
    "    \n",
    "#     return numerical_age_proc"
   ]
  },
  {
   "cell_type": "code",
   "execution_count": null,
   "metadata": {
    "collapsed": true
   },
   "outputs": [],
   "source": [
    "    user_age_proc = NumericalProc('user_age')"
   ]
  },
  {
   "cell_type": "code",
   "execution_count": null,
   "metadata": {
    "collapsed": true
   },
   "outputs": [],
   "source": [
    "user_age_proc.remove_neg_fillna_add_ind_col_fit(data_train)"
   ]
  },
  {
   "cell_type": "code",
   "execution_count": null,
   "metadata": {
    "collapsed": true
   },
   "outputs": [],
   "source": [
    "data_train = user_age_proc.remove_neg_fillna_add_ind_col_transform(data_train)"
   ]
  },
  {
   "cell_type": "code",
   "execution_count": null,
   "metadata": {
    "collapsed": true
   },
   "outputs": [],
   "source": [
    "data_train.user_age.describe()"
   ]
  },
  {
   "cell_type": "markdown",
   "metadata": {},
   "source": [
    "# Process `sex_id`"
   ]
  },
  {
   "cell_type": "code",
   "execution_count": null,
   "metadata": {
    "collapsed": true
   },
   "outputs": [],
   "source": [
    "sex_id_encoder = BinOHE('sex_id')"
   ]
  },
  {
   "cell_type": "code",
   "execution_count": null,
   "metadata": {
    "collapsed": true
   },
   "outputs": [],
   "source": [
    "sex_id_encoder"
   ]
  },
  {
   "cell_type": "code",
   "execution_count": null,
   "metadata": {
    "collapsed": true
   },
   "outputs": [],
   "source": [
    "sex_id_encoder.ohe_fit(data_train)"
   ]
  },
  {
   "cell_type": "code",
   "execution_count": null,
   "metadata": {
    "collapsed": true
   },
   "outputs": [],
   "source": [
    "sex_id_encoder"
   ]
  },
  {
   "cell_type": "code",
   "execution_count": null,
   "metadata": {
    "collapsed": true
   },
   "outputs": [],
   "source": [
    "data_train = sex_id_encoder.ohe_transform(data_train)"
   ]
  },
  {
   "cell_type": "code",
   "execution_count": null,
   "metadata": {
    "collapsed": true
   },
   "outputs": [],
   "source": [
    "data_train.head()"
   ]
  },
  {
   "cell_type": "code",
   "execution_count": null,
   "metadata": {
    "collapsed": true
   },
   "outputs": [],
   "source": [
    "data_test.head()"
   ]
  },
  {
   "cell_type": "code",
   "execution_count": null,
   "metadata": {
    "collapsed": true
   },
   "outputs": [],
   "source": [
    "data_test = sex_id_encoder.ohe_transform(data_test)"
   ]
  },
  {
   "cell_type": "code",
   "execution_count": null,
   "metadata": {
    "collapsed": true
   },
   "outputs": [],
   "source": [
    "data_test.head()"
   ]
  },
  {
   "cell_type": "markdown",
   "metadata": {},
   "source": [
    "# Process `client_type_id`"
   ]
  },
  {
   "cell_type": "code",
   "execution_count": null,
   "metadata": {
    "collapsed": true
   },
   "outputs": [],
   "source": [
    "client_type_id_encoder = BinOHE('client_type_id')"
   ]
  },
  {
   "cell_type": "code",
   "execution_count": null,
   "metadata": {
    "collapsed": true
   },
   "outputs": [],
   "source": [
    "client_type_id_encoder.ohe_fit(data_train)"
   ]
  },
  {
   "cell_type": "code",
   "execution_count": null,
   "metadata": {
    "collapsed": true
   },
   "outputs": [],
   "source": [
    "data_train = client_type_id_encoder.ohe_transform(data_train)"
   ]
  },
  {
   "cell_type": "code",
   "execution_count": null,
   "metadata": {
    "collapsed": true
   },
   "outputs": [],
   "source": [
    "data_train.tail()"
   ]
  },
  {
   "cell_type": "markdown",
   "metadata": {},
   "source": [
    "# Process `channel_id`"
   ]
  },
  {
   "cell_type": "code",
   "execution_count": null,
   "metadata": {
    "collapsed": true
   },
   "outputs": [],
   "source": [
    "channel_id_encoder = BinOHE('channel_id')"
   ]
  },
  {
   "cell_type": "code",
   "execution_count": null,
   "metadata": {
    "collapsed": true
   },
   "outputs": [],
   "source": [
    "channel_id_encoder.categorical_fit(data_train)"
   ]
  },
  {
   "cell_type": "code",
   "execution_count": null,
   "metadata": {
    "collapsed": true
   },
   "outputs": [],
   "source": [
    "data_train = channel_id_encoder.categorical_transform(data_train)"
   ]
  },
  {
   "cell_type": "code",
   "execution_count": null,
   "metadata": {
    "collapsed": true
   },
   "outputs": [],
   "source": [
    "data_train = channel_id_encoder.ohe_fit_transform(data_train)"
   ]
  },
  {
   "cell_type": "markdown",
   "metadata": {},
   "source": [
    "# Process `staytime`"
   ]
  },
  {
   "cell_type": "code",
   "execution_count": null,
   "metadata": {
    "collapsed": true
   },
   "outputs": [],
   "source": [
    "staytime_proc = numerical_proc_gen(data_train, 'staytime')"
   ]
  },
  {
   "cell_type": "code",
   "execution_count": null,
   "metadata": {
    "collapsed": true
   },
   "outputs": [],
   "source": [
    "data_train = staytime_proc(data_train)"
   ]
  },
  {
   "cell_type": "code",
   "execution_count": null,
   "metadata": {
    "collapsed": true
   },
   "outputs": [],
   "source": [
    "def one_hot_and_drop(df, colname):\n",
    "    one_hot_df = pd.get_dummies(df[colname], prefix=colname, drop_first=True)\n",
    "    df = df.join(one_hot_df)\n",
    "    df.drop([colname], axis=1, inplace=True)\n",
    "    \n",
    "    return df"
   ]
  },
  {
   "cell_type": "markdown",
   "metadata": {},
   "source": [
    "# Process `rechargestatus`"
   ]
  },
  {
   "cell_type": "code",
   "execution_count": null,
   "metadata": {
    "collapsed": true
   },
   "outputs": [],
   "source": [
    "def rechargestatus_proc(df):\n",
    "    df = one_hot_and_drop(df, 'rechargestatus')\n",
    "    return df"
   ]
  },
  {
   "cell_type": "code",
   "execution_count": null,
   "metadata": {
    "collapsed": true
   },
   "outputs": [],
   "source": [
    "data_train = rechargestatus_proc(data_train)"
   ]
  },
  {
   "cell_type": "code",
   "execution_count": null,
   "metadata": {
    "collapsed": true
   },
   "outputs": [],
   "source": [
    "data_train.head()"
   ]
  },
  {
   "cell_type": "code",
   "execution_count": null,
   "metadata": {
    "collapsed": true
   },
   "outputs": [],
   "source": [
    "data_train.lastday_invite.isnull().sum() / data_train.shape[0]"
   ]
  },
  {
   "cell_type": "code",
   "execution_count": null,
   "metadata": {
    "collapsed": true
   },
   "outputs": [],
   "source": [
    "def binarize_nan(df, colname):\n",
    "    df[colname] = [0 if np.isnan(x) else 1 for x in df[colname]]\n",
    "    \n",
    "    return df      "
   ]
  },
  {
   "cell_type": "markdown",
   "metadata": {},
   "source": [
    "# Process `lastday_invite`"
   ]
  },
  {
   "cell_type": "code",
   "execution_count": null,
   "metadata": {
    "collapsed": true
   },
   "outputs": [],
   "source": [
    "data_train = binarize_nan(data_train, 'lastday_invite')"
   ]
  },
  {
   "cell_type": "markdown",
   "metadata": {},
   "source": [
    "# Process `lastamt_invite`"
   ]
  },
  {
   "cell_type": "code",
   "execution_count": null,
   "metadata": {
    "collapsed": true
   },
   "outputs": [],
   "source": [
    "data_train.lastamt_invite = data_train.lastamt_invite.fillna(data_train.lastamt_invite.median())"
   ]
  },
  {
   "cell_type": "code",
   "execution_count": null,
   "metadata": {
    "collapsed": true
   },
   "outputs": [],
   "source": [
    "data_train.head()"
   ]
  },
  {
   "cell_type": "code",
   "execution_count": null,
   "metadata": {
    "collapsed": true
   },
   "outputs": [],
   "source": [
    "def fillna_for_numerical_var_and_create_nan_ind_col(df, colname, method='median'):\n",
    "    if colname not in df.columns:\n",
    "        raise ValueError('Column name non-existent.')\n",
    "    \n",
    "    colname_invalid = [1 if np.isnan(x) else 0 for x in df[colname]]\n",
    "    df[colname + '_nan_ind'] = colname_invalid\n",
    "    if method == 'median':\n",
    "        df[colname] = df[colname].fillna(df[colname].median())\n",
    "    elif method == 'mean':\n",
    "        df[colname] = df[colname].fillna(df[colname].mean())\n",
    "    else:\n",
    "        raise ValueError(\"Invalid filling method.\")"
   ]
  },
  {
   "cell_type": "code",
   "execution_count": null,
   "metadata": {
    "collapsed": true
   },
   "outputs": [],
   "source": [
    "# Convert labels\n",
    "data_train.loc[data_train['isinvested'] == '未投资', 'isinvested'] = 0\n",
    "data_train.loc[data_train['isinvested'] == '已投资', 'isinvested'] = 1"
   ]
  },
  {
   "cell_type": "code",
   "execution_count": null,
   "metadata": {
    "collapsed": true
   },
   "outputs": [],
   "source": [
    "data_train.tail()"
   ]
  },
  {
   "cell_type": "code",
   "execution_count": null,
   "metadata": {
    "collapsed": true
   },
   "outputs": [],
   "source": [
    "data_train.columns"
   ]
  },
  {
   "cell_type": "markdown",
   "metadata": {},
   "source": [
    "## Create Features/Labels"
   ]
  },
  {
   "cell_type": "code",
   "execution_count": null,
   "metadata": {
    "collapsed": true
   },
   "outputs": [],
   "source": [
    "# Remove cheat row\n",
    "data_train = data_train.iloc[:-1, :]\n",
    "\n",
    "# Get labels\n",
    "labels = data_train.isinvested\n",
    "\n",
    "# Get Features\n",
    "features = data_train.iloc[:, 1:]"
   ]
  },
  {
   "cell_type": "code",
   "execution_count": null,
   "metadata": {
    "collapsed": true
   },
   "outputs": [],
   "source": [
    "from sklearn.model_selection import train_test_split\n",
    "\n",
    "X_train, X_val, y_train, y_val = train_test_split(features, labels, test_size=0.30, random_state=13)"
   ]
  },
  {
   "cell_type": "code",
   "execution_count": null,
   "metadata": {
    "collapsed": true
   },
   "outputs": [],
   "source": [
    "from sklearn import svm\n",
    "from sklearn.ensemble import RandomForestClassifier\n",
    "from sklearn.model_selection import GridSearchCV\n",
    "\n",
    "cls = RandomForestClassifier(n_estimators=64, n_jobs=-1, oob_score=True, random_state=13)\n",
    "cls.fit(X_train, np.asarray(y_train, dtype=\"|S6\"))"
   ]
  },
  {
   "cell_type": "code",
   "execution_count": null,
   "metadata": {
    "collapsed": true
   },
   "outputs": [],
   "source": [
    "y_pred_train = cls.predict_proba(X_train)\n",
    "y_pred = cls.predict_proba(X_val)"
   ]
  },
  {
   "cell_type": "code",
   "execution_count": null,
   "metadata": {
    "collapsed": true
   },
   "outputs": [],
   "source": [
    "def calc_ks(data, n, prediction=\"prediction\", label=\"label\"):\n",
    "    \"\"\"\n",
    "    calculate ks value\n",
    "    :param data: DataFrame[prediction,label]\n",
    "    :param n : int number of cut\n",
    "    :param prediction: string name of prediction\n",
    "    :param label: string name of label\n",
    "    :return: array\n",
    "    \"\"\"\n",
    "    data = data.sort_values(prediction, ascending=False)\n",
    "    boolean = True\n",
    "    while boolean:\n",
    "        try:\n",
    "            data[prediction] = pd.Series(pd.qcut(data[prediction], n, labels=np.arange(n).astype(str)))\n",
    "        except ValueError:\n",
    "            boolean = True\n",
    "            n -= 1\n",
    "        else:\n",
    "            boolean = False\n",
    "    count = data.groupby(prediction)[label].agg({'bad': np.count_nonzero, 'obs': np.size})\n",
    "    count[\"good\"] = count[\"obs\"] - count[\"bad\"]\n",
    "    t_bad = np.sum(count[\"bad\"])\n",
    "    t_good = np.sum(count[\"good\"])\n",
    "    ks_vector = np.abs(np.cumsum(count[\"bad\"]) / t_bad - np.cumsum(count[\"good\"]) / t_good)\n",
    "    return ks_vector\n",
    "\n",
    "def calc_continus_ks(data, prediction=\"prediction\", label=\"label\"):\n",
    "    \"\"\"\n",
    "\n",
    "    :param data:\n",
    "    :param prediction:\n",
    "    :param label:\n",
    "    :return:\n",
    "    \"\"\"\n",
    "    data = data.sort_values(prediction, ascending=False)\n",
    "    count = data.groupby(prediction, sort=False)[label].agg({'bad': np.count_nonzero, 'obs': np.size})\n",
    "    count[\"good\"] = count[\"obs\"] - count[\"bad\"]\n",
    "    t_bad = np.sum(count[\"bad\"])\n",
    "    t_good = np.sum(count[\"good\"])\n",
    "    ks_vector = np.abs(np.cumsum(count[\"bad\"]) / t_bad - np.cumsum(count[\"good\"]) / t_good)\n",
    "    return ks_vector"
   ]
  },
  {
   "cell_type": "code",
   "execution_count": null,
   "metadata": {
    "collapsed": true
   },
   "outputs": [],
   "source": [
    "def eval_ks(y_true, y_pred):\n",
    "    target_oos = y_pred\n",
    "    rf_results = pd.DataFrame({'prediction':target_oos[:, 1],\"label\":y_true})\n",
    "#     rf_results = pd.DataFrame({'prediction':target_oos,\"label\":y_true})\n",
    "    ks_dis = calc_ks(rf_results, 10, prediction=\"prediction\")\n",
    "#     print(max(ks_dis))\n",
    "    ks_cont = calc_continus_ks(rf_results, prediction=\"prediction\")\n",
    "#     print(max(ks_cont))\n",
    "    return max(ks_dis), max(ks_cont)"
   ]
  },
  {
   "cell_type": "code",
   "execution_count": null,
   "metadata": {
    "collapsed": true
   },
   "outputs": [],
   "source": [
    "print(eval_ks(y_val, y_pred))"
   ]
  },
  {
   "cell_type": "markdown",
   "metadata": {
    "collapsed": true
   },
   "source": [
    "## Plan B -- using data_train_stf"
   ]
  },
  {
   "cell_type": "code",
   "execution_count": null,
   "metadata": {
    "collapsed": true
   },
   "outputs": [],
   "source": [
    "data_train_stf = pd.DataFrame.from_csv('data_train_stf.csv')\n",
    "data_test = pd.DataFrame.from_csv('data_test_all.csv')"
   ]
  },
  {
   "cell_type": "markdown",
   "metadata": {},
   "source": [
    "### Determine column-to-drop"
   ]
  },
  {
   "cell_type": "code",
   "execution_count": null,
   "metadata": {
    "collapsed": true
   },
   "outputs": [],
   "source": [
    "data_train_stf = drop_columns(data_train_stf, drop_total)"
   ]
  },
  {
   "cell_type": "code",
   "execution_count": null,
   "metadata": {
    "collapsed": true
   },
   "outputs": [],
   "source": [
    "def chain_function_call(list_of_functions, data):\n",
    "    temp = data\n",
    "    \n",
    "    for f in list_of_functions:\n",
    "        temp = f(temp)\n",
    "        \n",
    "    return temp"
   ]
  },
  {
   "cell_type": "code",
   "execution_count": null,
   "metadata": {
    "collapsed": true
   },
   "outputs": [],
   "source": [
    "# func_list = [user_age_proc, sex_id_proc, client_type_id_proc, channel_id_proc, staytime_proc, rechargestatus_proc]\n",
    "\n",
    "# chain_function_call(func_list, data_train_stf)\n",
    "data_train_stf = user_age_proc(data_train_stf)\n",
    "data_train_stf = sex_id_proc(data_train_stf)\n",
    "data_train_stf = client_type_id_proc(data_train_stf)\n",
    "data_train_stf = channel_id_proc(data_train_stf)\n",
    "data_train_stf = staytime_proc(data_train_stf)\n",
    "data_train_stf = rechargestatus_proc(data_train_stf)\n",
    "\n",
    "data_train_stf = binarize_nan(data_train_stf, 'lastday_invite')\n",
    "data_train_stf.lastamt_invite = data_train_stf.lastamt_invite.fillna(data_train_stf.lastamt_invite.median())"
   ]
  },
  {
   "cell_type": "code",
   "execution_count": null,
   "metadata": {
    "collapsed": true,
    "scrolled": true
   },
   "outputs": [],
   "source": [
    "data_train_stf.head()"
   ]
  },
  {
   "cell_type": "code",
   "execution_count": null,
   "metadata": {
    "collapsed": true
   },
   "outputs": [],
   "source": [
    "data_train_stf.isnull().sum()"
   ]
  },
  {
   "cell_type": "code",
   "execution_count": null,
   "metadata": {
    "collapsed": true
   },
   "outputs": [],
   "source": [
    "data_train_stf.shape"
   ]
  },
  {
   "cell_type": "code",
   "execution_count": null,
   "metadata": {
    "collapsed": true
   },
   "outputs": [],
   "source": [
    "data_train_stf = data_train_stf.iloc[:, :8].join(data_train_stf.iloc[:, 32:])"
   ]
  },
  {
   "cell_type": "code",
   "execution_count": null,
   "metadata": {
    "collapsed": true
   },
   "outputs": [],
   "source": [
    "data_train_stf.shape"
   ]
  },
  {
   "cell_type": "code",
   "execution_count": null,
   "metadata": {
    "collapsed": true
   },
   "outputs": [],
   "source": [
    "# Convert labels\n",
    "data_train_stf.loc[data_train_stf['isinvested'] == '未投资', 'isinvested'] = 0\n",
    "data_train_stf.loc[data_train_stf['isinvested'] == '已投资', 'isinvested'] = 1"
   ]
  },
  {
   "cell_type": "code",
   "execution_count": null,
   "metadata": {
    "collapsed": true
   },
   "outputs": [],
   "source": [
    "# Get labels\n",
    "labels_stf = data_train_stf.isinvested\n",
    "\n",
    "# Get Features\n",
    "features_stf = data_train_stf.iloc[:, 1:]"
   ]
  },
  {
   "cell_type": "code",
   "execution_count": null,
   "metadata": {
    "collapsed": true
   },
   "outputs": [],
   "source": [
    "X_train_stf, X_val_stf, y_train_stf, y_val_stf = train_test_split(features_stf, labels_stf, test_size=0.30, random_state=13)"
   ]
  },
  {
   "cell_type": "code",
   "execution_count": null,
   "metadata": {
    "collapsed": true
   },
   "outputs": [],
   "source": [
    "X_train_stf.head()"
   ]
  },
  {
   "cell_type": "code",
   "execution_count": null,
   "metadata": {
    "collapsed": true
   },
   "outputs": [],
   "source": [
    "cls = RandomForestClassifier(n_estimators=128, n_jobs=-1, oob_score=True, random_state=13)\n",
    "cls.fit(X_train_stf, np.asarray(y_train_stf, dtype=\"|S6\"))"
   ]
  },
  {
   "cell_type": "code",
   "execution_count": null,
   "metadata": {
    "collapsed": true
   },
   "outputs": [],
   "source": [
    "y_pred_train_stf = cls.predict_proba(X_train_stf)\n",
    "y_pred_stf = cls.predict_proba(X_val_stf)"
   ]
  },
  {
   "cell_type": "code",
   "execution_count": null,
   "metadata": {
    "collapsed": true
   },
   "outputs": [],
   "source": [
    "print(eval_ks(y_val_stf, y_pred_stf))"
   ]
  },
  {
   "cell_type": "markdown",
   "metadata": {},
   "source": [
    "# Finally, on to the test set"
   ]
  },
  {
   "cell_type": "code",
   "execution_count": null,
   "metadata": {
    "collapsed": true
   },
   "outputs": [],
   "source": [
    "data_test = pd.DataFrame.from_csv('data_test_all.csv')"
   ]
  },
  {
   "cell_type": "code",
   "execution_count": null,
   "metadata": {
    "collapsed": true
   },
   "outputs": [],
   "source": [
    "data_test.head()"
   ]
  },
  {
   "cell_type": "code",
   "execution_count": null,
   "metadata": {
    "collapsed": true
   },
   "outputs": [],
   "source": [
    "data_train = drop_columns(data_train, drop_total)"
   ]
  }
 ],
 "metadata": {
  "kernelspec": {
   "display_name": "Python [conda env:python3]",
   "language": "python",
   "name": "conda-env-python3-py"
  },
  "language_info": {
   "codemirror_mode": {
    "name": "ipython",
    "version": 3
   },
   "file_extension": ".py",
   "mimetype": "text/x-python",
   "name": "python",
   "nbconvert_exporter": "python",
   "pygments_lexer": "ipython3",
   "version": "3.6.1"
  }
 },
 "nbformat": 4,
 "nbformat_minor": 2
}
